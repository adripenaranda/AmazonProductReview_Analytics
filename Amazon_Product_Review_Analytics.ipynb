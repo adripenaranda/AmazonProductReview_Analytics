{
 "cells": [
  {
   "cell_type": "markdown",
   "metadata": {},
   "source": [
    "# AML 2203- Advanced Python AI and ML Tools 2024"
   ]
  },
  {
   "cell_type": "markdown",
   "metadata": {},
   "source": [
    "### Group 2- Team Members"
   ]
  },
  {
   "cell_type": "markdown",
   "metadata": {},
   "source": [
    "-  Adriana Marcela Penaranda Baron  **c0898944**\n",
    "-  Carlos Munoz Ebratt  **c0892588**\n",
    "-  Carlos Rey Pinto **c0868575**\n",
    "-  Kanishka Malhotra **c0895937**\n",
    "-  Yash Sahu **c0895287**"
   ]
  },
  {
   "cell_type": "markdown",
   "metadata": {},
   "source": [
    "### Asignation"
   ]
  },
  {
   "attachments": {
    "b1603fac-9281-4785-92fc-09c69a3a515b.png": {
     "image/png": "[encoded data removed]"
    }
   },
   "cell_type": "markdown",
   "metadata": {},
   "source": [
    "![image.png](attachment:b1603fac-9281-4785-92fc-09c69a3a515b.png)"
   ]
  },
  {
   "cell_type": "code",
   "execution_count": 1,
   "metadata": {},
   "outputs": [],
   "source": [
    "#import libraries \n",
    "\n",
    "import re\n",
    "import json\n",
    "import numpy as np\n",
    "import pandas as pd\n",
    "from scipy.stats import mode\n",
    "import matplotlib.pyplot as plt\n",
    "import seaborn as sns\n",
    "import sklearn\n",
    "import nltk\n",
    "import matplotlib.pyplot as plt\n",
    "%matplotlib inline\n",
    "\n",
    "from sklearn.ensemble                import RandomForestClassifier\n",
    "from sklearn.model_selection         import GridSearchCV\n",
    "from sklearn.model_selection         import cross_val_score\n",
    "from nltk.corpus import stopwords\n",
    "from nltk.stem import PorterStemmer\n",
    "from nltk.tokenize import word_tokenize\n",
    "\n",
    "import warnings\n",
    "warnings.filterwarnings('ignore')"
   ]
  },
  {
   "cell_type": "markdown",
   "metadata": {},
   "source": [
    "## 1. Data Selection & Acquisition:"
   ]
  },
  {
   "attachments": {},
   "cell_type": "markdown",
   "metadata": {},
   "source": [
    "This dataset chosen was taken from Kaggle:\n",
    "\n",
    "https://www.kaggle.com/datasets/vivekgediya/ecommerce-product-review-data?select=Product+Review+Data.csv\n",
    "\n",
    "\n",
    "The chosen dataset is the Amazon Product Reviews dataset, selected for its diverse range of product categories and user opinions, providin abundant e textual data for sentiment analysis. Essentially, it contains detailed text that allows us to delve into people's sentiments, alongside ratings and additional information aiding predictive analysis. Ultimately,The objectiveof this project is to construct a classification model that utilizes the text of the review along with other factors,to predict whether the rating will be **positive or negative.**."
   ]
  },
  {
   "cell_type": "code",
   "execution_count": 2,
   "metadata": {},
   "outputs": [
    {
     "data": {
      "text/html": [
       "<div>\n",
       "<style scoped>\n",
       "    .dataframe tbody tr th:only-of-type {\n",
       "        vertical-align: middle;\n",
       "    }\n",
       "\n",
       "    .dataframe tbody tr th {\n",
       "        vertical-align: top;\n",
       "    }\n",
       "\n",
       "    .dataframe thead th {\n",
       "        text-align: right;\n",
       "    }\n",
       "</style>\n",
       "<table border=\"1\" class=\"dataframe\">\n",
       "  <thead>\n",
       "    <tr style=\"text-align: right;\">\n",
       "      <th></th>\n",
       "      <th>id</th>\n",
       "      <th>asins</th>\n",
       "      <th>brand</th>\n",
       "      <th>categories</th>\n",
       "      <th>colors</th>\n",
       "      <th>dateAdded</th>\n",
       "      <th>dateUpdated</th>\n",
       "      <th>dimension</th>\n",
       "      <th>ean</th>\n",
       "      <th>keys</th>\n",
       "      <th>...</th>\n",
       "      <th>reviews.rating</th>\n",
       "      <th>reviews.sourceURLs</th>\n",
       "      <th>reviews.text</th>\n",
       "      <th>reviews.title</th>\n",
       "      <th>reviews.userCity</th>\n",
       "      <th>reviews.userProvince</th>\n",
       "      <th>reviews.username</th>\n",
       "      <th>sizes</th>\n",
       "      <th>upc</th>\n",
       "      <th>weight</th>\n",
       "    </tr>\n",
       "  </thead>\n",
       "  <tbody>\n",
       "    <tr>\n",
       "      <th>0</th>\n",
       "      <td>AVpe7AsMilAPnD_xQ78G</td>\n",
       "      <td>B00QJDU3KY</td>\n",
       "      <td>Amazon</td>\n",
       "      <td>Amazon Devices,mazon.co.uk</td>\n",
       "      <td>NaN</td>\n",
       "      <td>2016-03-08T20:21:53Z</td>\n",
       "      <td>2017-07-18T23:52:58Z</td>\n",
       "      <td>169 mm x 117 mm x 9.1 mm</td>\n",
       "      <td>NaN</td>\n",
       "      <td>kindlepaperwhite/b00qjdu3ky</td>\n",
       "      <td>...</td>\n",
       "      <td>5.0</td>\n",
       "      <td>https://www.amazon.com/Kindle-Paperwhite-High-...</td>\n",
       "      <td>I initially had trouble deciding between the p...</td>\n",
       "      <td>Paperwhite voyage, no regrets!</td>\n",
       "      <td>NaN</td>\n",
       "      <td>NaN</td>\n",
       "      <td>Cristina M</td>\n",
       "      <td>NaN</td>\n",
       "      <td>NaN</td>\n",
       "      <td>205 grams</td>\n",
       "    </tr>\n",
       "    <tr>\n",
       "      <th>1</th>\n",
       "      <td>AVpe7AsMilAPnD_xQ78G</td>\n",
       "      <td>B00QJDU3KY</td>\n",
       "      <td>Amazon</td>\n",
       "      <td>Amazon Devices,mazon.co.uk</td>\n",
       "      <td>NaN</td>\n",
       "      <td>2016-03-08T20:21:53Z</td>\n",
       "      <td>2017-07-18T23:52:58Z</td>\n",
       "      <td>169 mm x 117 mm x 9.1 mm</td>\n",
       "      <td>NaN</td>\n",
       "      <td>kindlepaperwhite/b00qjdu3ky</td>\n",
       "      <td>...</td>\n",
       "      <td>5.0</td>\n",
       "      <td>https://www.amazon.com/Kindle-Paperwhite-High-...</td>\n",
       "      <td>Allow me to preface this with a little history...</td>\n",
       "      <td>One Simply Could Not Ask For More</td>\n",
       "      <td>NaN</td>\n",
       "      <td>NaN</td>\n",
       "      <td>Ricky</td>\n",
       "      <td>NaN</td>\n",
       "      <td>NaN</td>\n",
       "      <td>205 grams</td>\n",
       "    </tr>\n",
       "  </tbody>\n",
       "</table>\n",
       "<p>2 rows × 27 columns</p>\n",
       "</div>"
      ],
      "text/plain": [
       "                     id       asins   brand                  categories  \\\n",
       "0  AVpe7AsMilAPnD_xQ78G  B00QJDU3KY  Amazon  Amazon Devices,mazon.co.uk   \n",
       "1  AVpe7AsMilAPnD_xQ78G  B00QJDU3KY  Amazon  Amazon Devices,mazon.co.uk   \n",
       "\n",
       "  colors             dateAdded           dateUpdated  \\\n",
       "0    NaN  2016-03-08T20:21:53Z  2017-07-18T23:52:58Z   \n",
       "1    NaN  2016-03-08T20:21:53Z  2017-07-18T23:52:58Z   \n",
       "\n",
       "                  dimension  ean                         keys  ...  \\\n",
       "0  169 mm x 117 mm x 9.1 mm  NaN  kindlepaperwhite/b00qjdu3ky  ...   \n",
       "1  169 mm x 117 mm x 9.1 mm  NaN  kindlepaperwhite/b00qjdu3ky  ...   \n",
       "\n",
       "  reviews.rating                                 reviews.sourceURLs  \\\n",
       "0            5.0  https://www.amazon.com/Kindle-Paperwhite-High-...   \n",
       "1            5.0  https://www.amazon.com/Kindle-Paperwhite-High-...   \n",
       "\n",
       "                                        reviews.text  \\\n",
       "0  I initially had trouble deciding between the p...   \n",
       "1  Allow me to preface this with a little history...   \n",
       "\n",
       "                       reviews.title reviews.userCity reviews.userProvince  \\\n",
       "0     Paperwhite voyage, no regrets!              NaN                  NaN   \n",
       "1  One Simply Could Not Ask For More              NaN                  NaN   \n",
       "\n",
       "   reviews.username  sizes upc     weight  \n",
       "0        Cristina M    NaN NaN  205 grams  \n",
       "1             Ricky    NaN NaN  205 grams  \n",
       "\n",
       "[2 rows x 27 columns]"
      ]
     },
     "execution_count": 2,
     "metadata": {},
     "output_type": "execute_result"
    }
   ],
   "source": [
    "# Loading the Dataset\n",
    "df = pd.read_csv(\"Product Review Data.csv\")\n",
    "df.head(2)"
   ]
  },
  {
   "cell_type": "markdown",
   "metadata": {},
   "source": [
    "**Description of each attribute**\n",
    "\n",
    "-  id: Unique identifier for each entry.\n",
    "-  asins: Amazon Standard Identification Numbers (ASINs) associated with the product.\n",
    "-  brand: The name of the product's brand.\n",
    "-  categories: The category of the product.\n",
    "-  colors: Color options available for the product.\n",
    "-  dateAdded: Date when the product information was added to the database.\n",
    "-  dateUpdated: The date indicating the most recent update of the product information.\n",
    "-  dimension: Dimensions of the product (e.g., length, width, height).\n",
    "-  ean: International Article Number (EAN) associated with the product.\n",
    "-  keys: Keywords or search terms associated with the product.\n",
    "-  manufacturer: The manufacturer of the product.\n",
    "-  manufacturerNumber: Manufacturer's identification number for the product.\n",
    "-  name: Name of the product.\n",
    "-  prices: Pricing information for the product.\n",
    "-  reviews.date: Date when the review was posted.\n",
    "-  reviews.doRecommend: Indicates whether the reviewer recommends the product or not.\n",
    "-  reviews.numHelpful: Number of users who found the review helpful.\n",
    "-  reviews.rating: Rating given by users for the product.\n",
    "-  reviews.sourceURLs: URLs to the source of the reviews.\n",
    "-  reviews.text: Text content of the reviews.\n",
    "-  reviews.title: Title of the reviews.\n",
    "-  reviews.userCity: City information of the user posting the review (if available).\n",
    "-  reviews.userProvince: Province information of the user posting the review (if available).\n",
    "-  reviews.username: Username of the user posting the review.\n",
    "-  sizes: Size options available for the product.\n",
    "-  upc: Universal Product Code (UPC) associated with the product.\n",
    "-  weight: Weight of the product."
   ]
  },
  {
   "cell_type": "markdown",
   "metadata": {},
   "source": [
    "## 2. Data Handling & Preprocessing"
   ]
  },
  {
   "cell_type": "code",
   "execution_count": 3,
   "metadata": {},
   "outputs": [
    {
     "data": {
      "text/plain": [
       "(1597, 27)"
      ]
     },
     "execution_count": 3,
     "metadata": {},
     "output_type": "execute_result"
    }
   ],
   "source": [
    "df.shape"
   ]
  },
  {
   "cell_type": "code",
   "execution_count": 4,
   "metadata": {},
   "outputs": [
    {
     "name": "stdout",
     "output_type": "stream",
     "text": [
      "<class 'pandas.core.frame.DataFrame'>\n",
      "RangeIndex: 1597 entries, 0 to 1596\n",
      "Data columns (total 27 columns):\n",
      " #   Column                Non-Null Count  Dtype  \n",
      "---  ------                --------------  -----  \n",
      " 0   id                    1597 non-null   object \n",
      " 1   asins                 1597 non-null   object \n",
      " 2   brand                 1597 non-null   object \n",
      " 3   categories            1597 non-null   object \n",
      " 4   colors                774 non-null    object \n",
      " 5   dateAdded             1597 non-null   object \n",
      " 6   dateUpdated           1597 non-null   object \n",
      " 7   dimension             565 non-null    object \n",
      " 8   ean                   898 non-null    float64\n",
      " 9   keys                  1597 non-null   object \n",
      " 10  manufacturer          965 non-null    object \n",
      " 11  manufacturerNumber    902 non-null    object \n",
      " 12  name                  1597 non-null   object \n",
      " 13  prices                1597 non-null   object \n",
      " 14  reviews.date          1217 non-null   object \n",
      " 15  reviews.doRecommend   539 non-null    object \n",
      " 16  reviews.numHelpful    900 non-null    float64\n",
      " 17  reviews.rating        1177 non-null   float64\n",
      " 18  reviews.sourceURLs    1597 non-null   object \n",
      " 19  reviews.text          1597 non-null   object \n",
      " 20  reviews.title         1580 non-null   object \n",
      " 21  reviews.userCity      0 non-null      float64\n",
      " 22  reviews.userProvince  0 non-null      float64\n",
      " 23  reviews.username      1580 non-null   object \n",
      " 24  sizes                 0 non-null      float64\n",
      " 25  upc                   898 non-null    float64\n",
      " 26  weight                686 non-null    object \n",
      "dtypes: float64(7), object(20)\n",
      "memory usage: 337.0+ KB\n"
     ]
    }
   ],
   "source": [
    "# basic data information\n",
    "df.info()"
   ]
  },
  {
   "cell_type": "markdown",
   "metadata": {},
   "source": [
    "**Observations:**\n",
    "\r",
    "- Thisis datasecontains 1597 6 entries and 13 attributes\n",
    "- The 'ean' and 'upc' columns are stored as float64 but should be object type, being identification codes.\n",
    "- Majority of the columns are of type object, indicating textual or categorical data\n",
    "- \n",
    "Several columns such as 'colors', 'dimension', 'ean', 'manufacturer', 'manufacturerNumber', 'reviews.date', 'reviews.doRecommend', 'reviews.numHelpful', 'reviews.ratingnd 'reviews.titleand 'weight' ' have missing valu that will need to handle for the machine learning model.\n",
    "-\r\n",
    "Columns like 'reviews.userCity', 'reviews.userProvince', and 'siz have no non-null values, uthis indicate we will need to drop them because they dont provide useful information. oducts.pped."
   ]
  },
  {
   "cell_type": "markdown",
   "metadata": {},
   "source": [
    "### Primary Data Exploration"
   ]
  },
  {
   "cell_type": "code",
   "execution_count": 5,
   "metadata": {},
   "outputs": [
    {
     "data": {
      "image/png": "[encoded data removed]",
      "text/plain": [
       "<Figure size 800x500 with 1 Axes>"
      ]
     },
     "metadata": {},
     "output_type": "display_data"
    }
   ],
   "source": [
    "# Visualize distribution of 'reviews.rating' column using matplotlib and seaborn library\n",
    "\n",
    "# Set the style\n",
    "sns.set_style(\"darkgrid\")\n",
    "\n",
    "# Visualize distribution of 'reviews.rating' column using matplotlib and seaborn library\n",
    "plt.figure(figsize=(8, 5))\n",
    "sns.histplot(data=df, x='reviews.rating', kde=True, color= '#00008B')\n",
    "plt.title('Distribution of Reviews Ratings')\n",
    "plt.xlabel('Rating')\n",
    "plt.ylabel('Frequency')\n",
    "plt.show()"
   ]
  },
  {
   "cell_type": "code",
   "execution_count": 6,
   "metadata": {},
   "outputs": [
    {
     "data": {
      "image/png": "[encoded data removed]",
      "text/plain": [
       "<Figure size 1000x600 with 1 Axes>"
      ]
     },
     "metadata": {},
     "output_type": "display_data"
    }
   ],
   "source": [
    "#Visualizing the Distribution of Product Categories\n",
    "\n",
    "# Get the frequency of each category\n",
    "category_counts = df['categories'].str[:20].value_counts() #The name of categories is too long so we limited to the first 20 characters\n",
    "# Extract categories and their counts\n",
    "categories = category_counts.index\n",
    "counts = category_counts.values\n",
    "\n",
    "# Create a countplot with ordered categories based on frequency\n",
    "plt.figure(figsize=(10, 6))\n",
    "sns.countplot(data=df, x=df['categories'].str[:20], order=categories, palette='Blues')\n",
    "plt.title('Distribution of Product Categories')\n",
    "plt.xlabel('Categories')\n",
    "plt.ylabel('Frequency')\n",
    "\n",
    "plt.xticks(rotation=45, ha='right')\n",
    "\n",
    "plt.tight_layout()\n",
    "plt.show()\n"
   ]
  },
  {
   "cell_type": "markdown",
   "metadata": {},
   "source": [
    "Now, We will clean the dataset following the next steps:\n",
    "-  1. Coverting the data types of cols if there is need\n",
    "-  2. Finding the duplicates and handling them\n",
    "-  3. Looking for missing values\n",
    "-  4. Filling the missing values\n",
    "-  5. Checking for outliers\n"
   ]
  },
  {
   "cell_type": "markdown",
   "metadata": {},
   "source": [
    "### Data Type Conversion"
   ]
  },
  {
   "cell_type": "code",
   "execution_count": 7,
   "metadata": {},
   "outputs": [
    {
     "data": {
      "text/plain": [
       "id                       object\n",
       "asins                    object\n",
       "brand                    object\n",
       "categories               object\n",
       "colors                   object\n",
       "dateAdded                object\n",
       "dateUpdated              object\n",
       "dimension                object\n",
       "ean                      object\n",
       "keys                     object\n",
       "manufacturer             object\n",
       "manufacturerNumber       object\n",
       "name                     object\n",
       "prices                   object\n",
       "reviews.date             object\n",
       "reviews.doRecommend      object\n",
       "reviews.numHelpful      float64\n",
       "reviews.rating          float64\n",
       "reviews.sourceURLs       object\n",
       "reviews.text             object\n",
       "reviews.title            object\n",
       "reviews.userCity        float64\n",
       "reviews.userProvince    float64\n",
       "reviews.username         object\n",
       "sizes                   float64\n",
       "upc                      object\n",
       "weight                   object\n",
       "dtype: object"
      ]
     },
     "execution_count": 7,
     "metadata": {},
     "output_type": "execute_result"
    }
   ],
   "source": [
    "#Coverting the data types of cols \"ean\" and \"upc\"\n",
    "\n",
    "def convert_to_object_type(df, columns):\n",
    "    return df.astype({col: str for col in columns})\n",
    "\n",
    "df = convert_to_object_type(df, ['ean', 'upc'])\n",
    "df.dtypes"
   ]
  },
  {
   "cell_type": "markdown",
   "metadata": {},
   "source": [
    "### Finding the duplicates"
   ]
  },
  {
   "cell_type": "code",
   "execution_count": 8,
   "metadata": {},
   "outputs": [
    {
     "data": {
      "text/html": [
       "<div>\n",
       "<style scoped>\n",
       "    .dataframe tbody tr th:only-of-type {\n",
       "        vertical-align: middle;\n",
       "    }\n",
       "\n",
       "    .dataframe tbody tr th {\n",
       "        vertical-align: top;\n",
       "    }\n",
       "\n",
       "    .dataframe thead th {\n",
       "        text-align: right;\n",
       "    }\n",
       "</style>\n",
       "<table border=\"1\" class=\"dataframe\">\n",
       "  <thead>\n",
       "    <tr style=\"text-align: right;\">\n",
       "      <th></th>\n",
       "      <th>id</th>\n",
       "      <th>asins</th>\n",
       "      <th>brand</th>\n",
       "      <th>categories</th>\n",
       "      <th>colors</th>\n",
       "      <th>dateAdded</th>\n",
       "      <th>dateUpdated</th>\n",
       "      <th>dimension</th>\n",
       "      <th>ean</th>\n",
       "      <th>keys</th>\n",
       "      <th>...</th>\n",
       "      <th>reviews.rating</th>\n",
       "      <th>reviews.sourceURLs</th>\n",
       "      <th>reviews.text</th>\n",
       "      <th>reviews.title</th>\n",
       "      <th>reviews.userCity</th>\n",
       "      <th>reviews.userProvince</th>\n",
       "      <th>reviews.username</th>\n",
       "      <th>sizes</th>\n",
       "      <th>upc</th>\n",
       "      <th>weight</th>\n",
       "    </tr>\n",
       "  </thead>\n",
       "  <tbody>\n",
       "  </tbody>\n",
       "</table>\n",
       "<p>0 rows × 27 columns</p>\n",
       "</div>"
      ],
      "text/plain": [
       "Empty DataFrame\n",
       "Columns: [id, asins, brand, categories, colors, dateAdded, dateUpdated, dimension, ean, keys, manufacturer, manufacturerNumber, name, prices, reviews.date, reviews.doRecommend, reviews.numHelpful, reviews.rating, reviews.sourceURLs, reviews.text, reviews.title, reviews.userCity, reviews.userProvince, reviews.username, sizes, upc, weight]\n",
       "Index: []\n",
       "\n",
       "[0 rows x 27 columns]"
      ]
     },
     "execution_count": 8,
     "metadata": {},
     "output_type": "execute_result"
    }
   ],
   "source": [
    "df[df.duplicated()]"
   ]
  },
  {
   "cell_type": "code",
   "execution_count": 9,
   "metadata": {},
   "outputs": [
    {
     "data": {
      "text/html": [
       "<div>\n",
       "<style scoped>\n",
       "    .dataframe tbody tr th:only-of-type {\n",
       "        vertical-align: middle;\n",
       "    }\n",
       "\n",
       "    .dataframe tbody tr th {\n",
       "        vertical-align: top;\n",
       "    }\n",
       "\n",
       "    .dataframe thead th {\n",
       "        text-align: right;\n",
       "    }\n",
       "</style>\n",
       "<table border=\"1\" class=\"dataframe\">\n",
       "  <thead>\n",
       "    <tr style=\"text-align: right;\">\n",
       "      <th></th>\n",
       "      <th>asins</th>\n",
       "      <th>brand</th>\n",
       "      <th>categories</th>\n",
       "      <th>colors</th>\n",
       "      <th>dateAdded</th>\n",
       "      <th>dateUpdated</th>\n",
       "      <th>dimension</th>\n",
       "      <th>ean</th>\n",
       "      <th>keys</th>\n",
       "      <th>manufacturer</th>\n",
       "      <th>...</th>\n",
       "      <th>reviews.rating</th>\n",
       "      <th>reviews.sourceURLs</th>\n",
       "      <th>reviews.text</th>\n",
       "      <th>reviews.title</th>\n",
       "      <th>reviews.userCity</th>\n",
       "      <th>reviews.userProvince</th>\n",
       "      <th>reviews.username</th>\n",
       "      <th>sizes</th>\n",
       "      <th>upc</th>\n",
       "      <th>weight</th>\n",
       "    </tr>\n",
       "  </thead>\n",
       "  <tbody>\n",
       "  </tbody>\n",
       "</table>\n",
       "<p>0 rows × 26 columns</p>\n",
       "</div>"
      ],
      "text/plain": [
       "Empty DataFrame\n",
       "Columns: [asins, brand, categories, colors, dateAdded, dateUpdated, dimension, ean, keys, manufacturer, manufacturerNumber, name, prices, reviews.date, reviews.doRecommend, reviews.numHelpful, reviews.rating, reviews.sourceURLs, reviews.text, reviews.title, reviews.userCity, reviews.userProvince, reviews.username, sizes, upc, weight]\n",
       "Index: []\n",
       "\n",
       "[0 rows x 26 columns]"
      ]
     },
     "execution_count": 9,
     "metadata": {},
     "output_type": "execute_result"
    }
   ],
   "source": [
    "#Lets check if there's any duplicate without the \"id\"\n",
    "test=df.copy()\n",
    "test.drop(columns=['id'], inplace=True)\n",
    "test[test.duplicated()]"
   ]
  },
  {
   "cell_type": "markdown",
   "metadata": {},
   "source": [
    "### Dealing with missing values"
   ]
  },
  {
   "cell_type": "code",
   "execution_count": 10,
   "metadata": {},
   "outputs": [
    {
     "data": {
      "image/png": "[encoded data removed]",
      "text/plain": [
       "<Figure size 800x400 with 1 Axes>"
      ]
     },
     "metadata": {},
     "output_type": "display_data"
    }
   ],
   "source": [
    "# Create a custom colormap with a mix of grey and blue\n",
    "cmap = sns.diverging_palette(235, 10, as_cmap=True)\n",
    "\n",
    "# Create a heatmap of missing values with the custom colormap\n",
    "plt.figure(figsize=(8, 4))\n",
    "sns.heatmap(df.isnull(), cmap=cmap, cbar=False)\n",
    "plt.title('Missing Values Heatmap')\n",
    "plt.xlabel('Columns')\n",
    "plt.ylabel('Rows')\n",
    "plt.show()"
   ]
  },
  {
   "cell_type": "code",
   "execution_count": 11,
   "metadata": {},
   "outputs": [
    {
     "name": "stdout",
     "output_type": "stream",
     "text": [
      "                  Column  Missing Values  Percentage Missing\n",
      "0                     id               0            0.000000\n",
      "1                  asins               0            0.000000\n",
      "2                  brand               0            0.000000\n",
      "3             categories               0            0.000000\n",
      "4                 colors             823           51.534126\n",
      "5              dateAdded               0            0.000000\n",
      "6            dateUpdated               0            0.000000\n",
      "7              dimension            1032           64.621165\n",
      "8                    ean               0            0.000000\n",
      "9                   keys               0            0.000000\n",
      "10          manufacturer             632           39.574202\n",
      "11    manufacturerNumber             695           43.519098\n",
      "12                  name               0            0.000000\n",
      "13                prices               0            0.000000\n",
      "14          reviews.date             380           23.794615\n",
      "15   reviews.doRecommend            1058           66.249217\n",
      "16    reviews.numHelpful             697           43.644333\n",
      "17        reviews.rating             420           26.299311\n",
      "18    reviews.sourceURLs               0            0.000000\n",
      "19          reviews.text               0            0.000000\n",
      "20         reviews.title              17            1.064496\n",
      "21      reviews.userCity            1597          100.000000\n",
      "22  reviews.userProvince            1597          100.000000\n",
      "23      reviews.username              17            1.064496\n",
      "24                 sizes            1597          100.000000\n",
      "25                   upc               0            0.000000\n",
      "26                weight             911           57.044458\n"
     ]
    }
   ],
   "source": [
    "#Lets see the detail of missing values\n",
    "# Calculate the total number of rows\n",
    "total_rows = len(df)\n",
    "\n",
    "# Calculate the number of missing values for each column\n",
    "missing_values = df.isna().sum()\n",
    "\n",
    "# Calculate the percentage of missing values for each column\n",
    "percentage_missing = (missing_values / total_rows) * 100\n",
    "\n",
    "# Create a DataFrame to store the results\n",
    "missing_data_df = pd.DataFrame({\n",
    "    'Column': missing_values.index,\n",
    "    'Missing Values': missing_values.values,\n",
    "    'Percentage Missing': percentage_missing.values\n",
    "})\n",
    "\n",
    "print(missing_data_df)"
   ]
  },
  {
   "cell_type": "code",
   "execution_count": 12,
   "metadata": {},
   "outputs": [
    {
     "data": {
      "text/html": [
       "<div>\n",
       "<style scoped>\n",
       "    .dataframe tbody tr th:only-of-type {\n",
       "        vertical-align: middle;\n",
       "    }\n",
       "\n",
       "    .dataframe tbody tr th {\n",
       "        vertical-align: top;\n",
       "    }\n",
       "\n",
       "    .dataframe thead th {\n",
       "        text-align: right;\n",
       "    }\n",
       "</style>\n",
       "<table border=\"1\" class=\"dataframe\">\n",
       "  <thead>\n",
       "    <tr style=\"text-align: right;\">\n",
       "      <th></th>\n",
       "      <th>id</th>\n",
       "      <th>asins</th>\n",
       "      <th>brand</th>\n",
       "      <th>categories</th>\n",
       "      <th>colors</th>\n",
       "      <th>dateAdded</th>\n",
       "      <th>dateUpdated</th>\n",
       "      <th>dimension</th>\n",
       "      <th>ean</th>\n",
       "      <th>keys</th>\n",
       "      <th>...</th>\n",
       "      <th>reviews.date</th>\n",
       "      <th>reviews.doRecommend</th>\n",
       "      <th>reviews.numHelpful</th>\n",
       "      <th>reviews.rating</th>\n",
       "      <th>reviews.sourceURLs</th>\n",
       "      <th>reviews.text</th>\n",
       "      <th>reviews.title</th>\n",
       "      <th>reviews.username</th>\n",
       "      <th>upc</th>\n",
       "      <th>weight</th>\n",
       "    </tr>\n",
       "  </thead>\n",
       "  <tbody>\n",
       "    <tr>\n",
       "      <th>0</th>\n",
       "      <td>AVpe7AsMilAPnD_xQ78G</td>\n",
       "      <td>B00QJDU3KY</td>\n",
       "      <td>Amazon</td>\n",
       "      <td>Amazon Devices,mazon.co.uk</td>\n",
       "      <td>NaN</td>\n",
       "      <td>2016-03-08T20:21:53Z</td>\n",
       "      <td>2017-07-18T23:52:58Z</td>\n",
       "      <td>169 mm x 117 mm x 9.1 mm</td>\n",
       "      <td>nan</td>\n",
       "      <td>kindlepaperwhite/b00qjdu3ky</td>\n",
       "      <td>...</td>\n",
       "      <td>2015-08-08T00:00:00.000Z</td>\n",
       "      <td>NaN</td>\n",
       "      <td>139.0</td>\n",
       "      <td>5.0</td>\n",
       "      <td>https://www.amazon.com/Kindle-Paperwhite-High-...</td>\n",
       "      <td>I initially had trouble deciding between the p...</td>\n",
       "      <td>Paperwhite voyage, no regrets!</td>\n",
       "      <td>Cristina M</td>\n",
       "      <td>nan</td>\n",
       "      <td>205 grams</td>\n",
       "    </tr>\n",
       "    <tr>\n",
       "      <th>1</th>\n",
       "      <td>AVpe7AsMilAPnD_xQ78G</td>\n",
       "      <td>B00QJDU3KY</td>\n",
       "      <td>Amazon</td>\n",
       "      <td>Amazon Devices,mazon.co.uk</td>\n",
       "      <td>NaN</td>\n",
       "      <td>2016-03-08T20:21:53Z</td>\n",
       "      <td>2017-07-18T23:52:58Z</td>\n",
       "      <td>169 mm x 117 mm x 9.1 mm</td>\n",
       "      <td>nan</td>\n",
       "      <td>kindlepaperwhite/b00qjdu3ky</td>\n",
       "      <td>...</td>\n",
       "      <td>2015-09-01T00:00:00.000Z</td>\n",
       "      <td>NaN</td>\n",
       "      <td>126.0</td>\n",
       "      <td>5.0</td>\n",
       "      <td>https://www.amazon.com/Kindle-Paperwhite-High-...</td>\n",
       "      <td>Allow me to preface this with a little history...</td>\n",
       "      <td>One Simply Could Not Ask For More</td>\n",
       "      <td>Ricky</td>\n",
       "      <td>nan</td>\n",
       "      <td>205 grams</td>\n",
       "    </tr>\n",
       "  </tbody>\n",
       "</table>\n",
       "<p>2 rows × 24 columns</p>\n",
       "</div>"
      ],
      "text/plain": [
       "                     id       asins   brand                  categories  \\\n",
       "0  AVpe7AsMilAPnD_xQ78G  B00QJDU3KY  Amazon  Amazon Devices,mazon.co.uk   \n",
       "1  AVpe7AsMilAPnD_xQ78G  B00QJDU3KY  Amazon  Amazon Devices,mazon.co.uk   \n",
       "\n",
       "  colors             dateAdded           dateUpdated  \\\n",
       "0    NaN  2016-03-08T20:21:53Z  2017-07-18T23:52:58Z   \n",
       "1    NaN  2016-03-08T20:21:53Z  2017-07-18T23:52:58Z   \n",
       "\n",
       "                  dimension  ean                         keys  ...  \\\n",
       "0  169 mm x 117 mm x 9.1 mm  nan  kindlepaperwhite/b00qjdu3ky  ...   \n",
       "1  169 mm x 117 mm x 9.1 mm  nan  kindlepaperwhite/b00qjdu3ky  ...   \n",
       "\n",
       "               reviews.date reviews.doRecommend reviews.numHelpful  \\\n",
       "0  2015-08-08T00:00:00.000Z                 NaN              139.0   \n",
       "1  2015-09-01T00:00:00.000Z                 NaN              126.0   \n",
       "\n",
       "  reviews.rating                                 reviews.sourceURLs  \\\n",
       "0            5.0  https://www.amazon.com/Kindle-Paperwhite-High-...   \n",
       "1            5.0  https://www.amazon.com/Kindle-Paperwhite-High-...   \n",
       "\n",
       "                                        reviews.text  \\\n",
       "0  I initially had trouble deciding between the p...   \n",
       "1  Allow me to preface this with a little history...   \n",
       "\n",
       "                       reviews.title  reviews.username  upc     weight  \n",
       "0     Paperwhite voyage, no regrets!        Cristina M  nan  205 grams  \n",
       "1  One Simply Could Not Ask For More             Ricky  nan  205 grams  \n",
       "\n",
       "[2 rows x 24 columns]"
      ]
     },
     "execution_count": 12,
     "metadata": {},
     "output_type": "execute_result"
    }
   ],
   "source": [
    "#Dropping the columns without information or 100% nulls\n",
    "df.drop(columns=['reviews.userCity','reviews.userProvince','sizes'], inplace=True)\n",
    "df.head(2)"
   ]
  },
  {
   "cell_type": "markdown",
   "metadata": {},
   "source": [
    "**Note:** We have decidedd to exclude null values from the target variable to ensure data integrity and mitigate potential biases in subsequent analysis or modeling proceses\""
   ]
  },
  {
   "cell_type": "code",
   "execution_count": 13,
   "metadata": {},
   "outputs": [
    {
     "data": {
      "text/plain": [
       "(1177, 24)"
      ]
     },
     "execution_count": 13,
     "metadata": {},
     "output_type": "execute_result"
    }
   ],
   "source": [
    "#Removing the nulls of the target variable \"rating\" \n",
    "df.dropna(subset=['reviews.rating'], inplace=True)\n",
    "df.shape"
   ]
  },
  {
   "cell_type": "code",
   "execution_count": 14,
   "metadata": {},
   "outputs": [
    {
     "data": {
      "text/html": [
       "<div>\n",
       "<style scoped>\n",
       "    .dataframe tbody tr th:only-of-type {\n",
       "        vertical-align: middle;\n",
       "    }\n",
       "\n",
       "    .dataframe tbody tr th {\n",
       "        vertical-align: top;\n",
       "    }\n",
       "\n",
       "    .dataframe thead th {\n",
       "        text-align: right;\n",
       "    }\n",
       "</style>\n",
       "<table border=\"1\" class=\"dataframe\">\n",
       "  <thead>\n",
       "    <tr style=\"text-align: right;\">\n",
       "      <th></th>\n",
       "      <th>id</th>\n",
       "      <th>asins</th>\n",
       "      <th>brand</th>\n",
       "      <th>categories</th>\n",
       "      <th>colors</th>\n",
       "      <th>dateAdded</th>\n",
       "      <th>dateUpdated</th>\n",
       "      <th>dimension</th>\n",
       "      <th>ean</th>\n",
       "      <th>keys</th>\n",
       "      <th>...</th>\n",
       "      <th>reviews.date</th>\n",
       "      <th>reviews.doRecommend</th>\n",
       "      <th>reviews.numHelpful</th>\n",
       "      <th>reviews.rating</th>\n",
       "      <th>reviews.sourceURLs</th>\n",
       "      <th>reviews.text</th>\n",
       "      <th>reviews.title</th>\n",
       "      <th>reviews.username</th>\n",
       "      <th>upc</th>\n",
       "      <th>weight</th>\n",
       "    </tr>\n",
       "  </thead>\n",
       "  <tbody>\n",
       "    <tr>\n",
       "      <th>0</th>\n",
       "      <td>AVpe7AsMilAPnD_xQ78G</td>\n",
       "      <td>B00QJDU3KY</td>\n",
       "      <td>Amazon</td>\n",
       "      <td>Amazon Devices,mazon.co.uk</td>\n",
       "      <td>NaN</td>\n",
       "      <td>2016-03-08T20:21:53Z</td>\n",
       "      <td>2017-07-18T23:52:58Z</td>\n",
       "      <td>169 mm x 117 mm x 9.1 mm</td>\n",
       "      <td>nan</td>\n",
       "      <td>kindlepaperwhite/b00qjdu3ky</td>\n",
       "      <td>...</td>\n",
       "      <td>2015-08-08T00:00:00.000Z</td>\n",
       "      <td>NaN</td>\n",
       "      <td>139.0</td>\n",
       "      <td>5.0</td>\n",
       "      <td>https://www.amazon.com/Kindle-Paperwhite-High-...</td>\n",
       "      <td>I initially had trouble deciding between the p...</td>\n",
       "      <td>Paperwhite voyage, no regrets!</td>\n",
       "      <td>Cristina M</td>\n",
       "      <td>nan</td>\n",
       "      <td>205 grams</td>\n",
       "    </tr>\n",
       "    <tr>\n",
       "      <th>1</th>\n",
       "      <td>AVpe7AsMilAPnD_xQ78G</td>\n",
       "      <td>B00QJDU3KY</td>\n",
       "      <td>Amazon</td>\n",
       "      <td>Amazon Devices,mazon.co.uk</td>\n",
       "      <td>NaN</td>\n",
       "      <td>2016-03-08T20:21:53Z</td>\n",
       "      <td>2017-07-18T23:52:58Z</td>\n",
       "      <td>169 mm x 117 mm x 9.1 mm</td>\n",
       "      <td>nan</td>\n",
       "      <td>kindlepaperwhite/b00qjdu3ky</td>\n",
       "      <td>...</td>\n",
       "      <td>2015-09-01T00:00:00.000Z</td>\n",
       "      <td>NaN</td>\n",
       "      <td>126.0</td>\n",
       "      <td>5.0</td>\n",
       "      <td>https://www.amazon.com/Kindle-Paperwhite-High-...</td>\n",
       "      <td>Allow me to preface this with a little history...</td>\n",
       "      <td>One Simply Could Not Ask For More</td>\n",
       "      <td>Ricky</td>\n",
       "      <td>nan</td>\n",
       "      <td>205 grams</td>\n",
       "    </tr>\n",
       "  </tbody>\n",
       "</table>\n",
       "<p>2 rows × 24 columns</p>\n",
       "</div>"
      ],
      "text/plain": [
       "                     id       asins   brand                  categories  \\\n",
       "0  AVpe7AsMilAPnD_xQ78G  B00QJDU3KY  Amazon  Amazon Devices,mazon.co.uk   \n",
       "1  AVpe7AsMilAPnD_xQ78G  B00QJDU3KY  Amazon  Amazon Devices,mazon.co.uk   \n",
       "\n",
       "  colors             dateAdded           dateUpdated  \\\n",
       "0    NaN  2016-03-08T20:21:53Z  2017-07-18T23:52:58Z   \n",
       "1    NaN  2016-03-08T20:21:53Z  2017-07-18T23:52:58Z   \n",
       "\n",
       "                  dimension  ean                         keys  ...  \\\n",
       "0  169 mm x 117 mm x 9.1 mm  nan  kindlepaperwhite/b00qjdu3ky  ...   \n",
       "1  169 mm x 117 mm x 9.1 mm  nan  kindlepaperwhite/b00qjdu3ky  ...   \n",
       "\n",
       "               reviews.date reviews.doRecommend reviews.numHelpful  \\\n",
       "0  2015-08-08T00:00:00.000Z                 NaN              139.0   \n",
       "1  2015-09-01T00:00:00.000Z                 NaN              126.0   \n",
       "\n",
       "  reviews.rating                                 reviews.sourceURLs  \\\n",
       "0            5.0  https://www.amazon.com/Kindle-Paperwhite-High-...   \n",
       "1            5.0  https://www.amazon.com/Kindle-Paperwhite-High-...   \n",
       "\n",
       "                                        reviews.text  \\\n",
       "0  I initially had trouble deciding between the p...   \n",
       "1  Allow me to preface this with a little history...   \n",
       "\n",
       "                       reviews.title  reviews.username  upc     weight  \n",
       "0     Paperwhite voyage, no regrets!        Cristina M  nan  205 grams  \n",
       "1  One Simply Could Not Ask For More             Ricky  nan  205 grams  \n",
       "\n",
       "[2 rows x 24 columns]"
      ]
     },
     "execution_count": 14,
     "metadata": {},
     "output_type": "execute_result"
    }
   ],
   "source": [
    "df.head(2)"
   ]
  },
  {
   "cell_type": "code",
   "execution_count": 15,
   "metadata": {},
   "outputs": [
    {
     "data": {
      "text/plain": [
       "array(['Amazon Devices,mazon.co.uk',\n",
       "       'Kindle Store,Amazon Devices,Electronics',\n",
       "       'Categories,Amazon Devices,Streaming Media Players',\n",
       "       'Amazon Devices',\n",
       "       'Categories,Amazon Devices,Electronics Features,Streaming Media Players,Consumer Electronics,See more Amazon Fire TV Digital HD Media Streamer (Late...',\n",
       "       'Amazon Devices & Accessories,Amazon Device Accessories,Power Adapters & Cables,Kindle Store,Kindle E-Reader Accessories,Kindle Paperwhite Accessories',\n",
       "       'Amazon Devices,Kindle Store', 'Electronics,Amazon Devices',\n",
       "       'Amazon Devices,Kindle Accessories',\n",
       "       'Amazon Devices,Electronics,Kindle Store',\n",
       "       'Amazon Devices,Electronics,Kindle Store,Amazon Echo',\n",
       "       'Amazon Devices,Kindle Store,Kindle Accessories',\n",
       "       'Amazon Devices,Kindle Store,buy a kindle',\n",
       "       'Amazon Devices,Home,Smart Home & Connected Living,Smart Hubs & Wireless Routers,Smart Hubs,Home Improvement,Home Safety & Security,Alarms & Sensors,Home Security,Amazon Echo,Home, Garage & Office,Smart Home,Voice Assistants,Amazon Tap,Electronics Features,TVs & Electronics,Portable Audio & Electronics,MP3 Player Accessories,Home Theater & Audio,Speakers,Featured Brands,Electronics,Kindle Store,Frys,Electronic Components,Home Automation,Electronics, Tech Toys, Movies, Music,Audio,Bluetooth Speakers',\n",
       "       'Cell Phones & Accessories,Accessories,Screen Protectors,Cell,Amazon Devices,Electronics',\n",
       "       'Amazon Devices & Accessories,Amazon Device Accessories,Controllers & Remote Controls,Kindle Store,Amazon Echo Accessories,Remote Controls',\n",
       "       'Amazon Devices & Accessories,Amazon Device Accessories,Kindle Store,Kindle E-Reader Accessories,Kindle Oasis Accessories',\n",
       "       'Amazon Devices,Corded Headsets,Electronics Features,Electronics,Audio,Headphones,Kindle Store,Kindle Accessories',\n",
       "       'Amazon Devices & Accessories,Amazon Device Accessories,Controllers & Remote Controls,Kindle Store,Fire TV Accessories,Controllers & Remotes,Controllers'],\n",
       "      dtype=object)"
      ]
     },
     "execution_count": 15,
     "metadata": {},
     "output_type": "execute_result"
    }
   ],
   "source": [
    "df['categories'].unique()"
   ]
  },
  {
   "cell_type": "markdown",
   "metadata": {},
   "source": [
    "**Note:** The product categories is going to be removed because its extensive content, detailing product categories, doesn't directly contribute to predicting whether a review is positive or negative."
   ]
  },
  {
   "cell_type": "code",
   "execution_count": 16,
   "metadata": {},
   "outputs": [
    {
     "data": {
      "text/plain": [
       "(1177, 9)"
      ]
     },
     "execution_count": 16,
     "metadata": {},
     "output_type": "execute_result"
    }
   ],
   "source": [
    "# Let's remove irrelevant columns \n",
    "\n",
    "# List of columns to drop\n",
    "columns_to_drop = ['id','categories', 'dimension','colors', 'reviews.date', 'dateAdded', 'dateUpdated','ean', 'keys','manufacturerNumber', 'name',\n",
    "                   'reviews.sourceURLs', 'upc', 'reviews.username','reviews.title']\n",
    "\n",
    "# Drop the irrelevant columns\n",
    "df.drop(columns=columns_to_drop, inplace=True)\n",
    "df.shape"
   ]
  },
  {
   "cell_type": "code",
   "execution_count": 17,
   "metadata": {},
   "outputs": [
    {
     "name": "stdout",
     "output_type": "stream",
     "text": [
      "                Column  Missing Values  Percentage Missing\n",
      "0                asins               0            0.000000\n",
      "1                brand               0            0.000000\n",
      "2         manufacturer             451           38.317757\n",
      "3               prices               0            0.000000\n",
      "4  reviews.doRecommend             638           54.205607\n",
      "5   reviews.numHelpful             277           23.534410\n",
      "6       reviews.rating               0            0.000000\n",
      "7         reviews.text               0            0.000000\n",
      "8               weight             525           44.604928\n"
     ]
    }
   ],
   "source": [
    "#Lets see the detail of missing values\n",
    "# Calculate the total number of rows\n",
    "total_rows = len(df)\n",
    "\n",
    "# Calculate the number of missing values for each column\n",
    "missing_values = df.isna().sum()\n",
    "\n",
    "# Calculate the percentage of missing values for each column\n",
    "percentage_missing = (missing_values / total_rows) * 100\n",
    "\n",
    "# Create a DataFrame to store the results\n",
    "missing_data_df = pd.DataFrame({\n",
    "    'Column': missing_values.index,\n",
    "    'Missing Values': missing_values.values,\n",
    "    'Percentage Missing': percentage_missing.values\n",
    "})\n",
    "\n",
    "print(missing_data_df)"
   ]
  },
  {
   "cell_type": "code",
   "execution_count": 18,
   "metadata": {},
   "outputs": [
    {
     "name": "stdout",
     "output_type": "stream",
     "text": [
      "<class 'pandas.core.frame.DataFrame'>\n",
      "Index: 1177 entries, 0 to 1596\n",
      "Data columns (total 9 columns):\n",
      " #   Column               Non-Null Count  Dtype  \n",
      "---  ------               --------------  -----  \n",
      " 0   asins                1177 non-null   object \n",
      " 1   brand                1177 non-null   object \n",
      " 2   manufacturer         1177 non-null   object \n",
      " 3   prices               1177 non-null   object \n",
      " 4   reviews.doRecommend  1177 non-null   object \n",
      " 5   reviews.numHelpful   1177 non-null   float64\n",
      " 6   reviews.rating       1177 non-null   float64\n",
      " 7   reviews.text         1177 non-null   object \n",
      " 8   weight               652 non-null    object \n",
      "dtypes: float64(2), object(7)\n",
      "memory usage: 92.0+ KB\n"
     ]
    }
   ],
   "source": [
    "# Handling missing values \n",
    "\n",
    "# Filling missing values of \"manufacturer\" column with Unknown information\n",
    "df['manufacturer'].fillna('Unknown', inplace = True)\n",
    "\n",
    "# Filling missing values of \"reviews.doRecommend\" with median\n",
    "df['reviews.doRecommend'].fillna(df['reviews.doRecommend'].median(), inplace = True)\n",
    "\n",
    "# Filling missing values of \"reviews.numHelpful\" with 0\n",
    "df['reviews.numHelpful'].fillna(0, inplace = True)\n",
    "\n",
    "df.info()"
   ]
  },
  {
   "cell_type": "code",
   "execution_count": 19,
   "metadata": {},
   "outputs": [
    {
     "data": {
      "text/plain": [
       "weight\n",
       "1.75 lbs      542\n",
       "1.6 ounces     19\n",
       "4 ounces       19\n",
       "2.4 ounces     17\n",
       "205 grams      15\n",
       "0.8 ounces     12\n",
       "5 ounces       12\n",
       "4.6 ounces     10\n",
       "1.1 pounds      6\n",
       "Name: count, dtype: int64"
      ]
     },
     "execution_count": 19,
     "metadata": {},
     "output_type": "execute_result"
    }
   ],
   "source": [
    "#Let's review the mixed of information in \"weight\" column\n",
    "df['weight'].value_counts()"
   ]
  },
  {
   "attachments": {},
   "cell_type": "markdown",
   "metadata": {},
   "source": [
    "**Note:**  The 'weight' column contains mixed data types, including ounces, pounds, grams, etc., which need to be standardized for consistenc in the next step- "
   ]
  },
  {
   "cell_type": "code",
   "execution_count": 20,
   "metadata": {},
   "outputs": [
    {
     "data": {
      "text/html": [
       "<div>\n",
       "<style scoped>\n",
       "    .dataframe tbody tr th:only-of-type {\n",
       "        vertical-align: middle;\n",
       "    }\n",
       "\n",
       "    .dataframe tbody tr th {\n",
       "        vertical-align: top;\n",
       "    }\n",
       "\n",
       "    .dataframe thead th {\n",
       "        text-align: right;\n",
       "    }\n",
       "</style>\n",
       "<table border=\"1\" class=\"dataframe\">\n",
       "  <thead>\n",
       "    <tr style=\"text-align: right;\">\n",
       "      <th></th>\n",
       "      <th>asins</th>\n",
       "      <th>brand</th>\n",
       "      <th>manufacturer</th>\n",
       "      <th>prices</th>\n",
       "      <th>reviews.doRecommend</th>\n",
       "      <th>reviews.numHelpful</th>\n",
       "      <th>reviews.rating</th>\n",
       "      <th>reviews.text</th>\n",
       "      <th>weight_in_pounds</th>\n",
       "    </tr>\n",
       "  </thead>\n",
       "  <tbody>\n",
       "    <tr>\n",
       "      <th>0</th>\n",
       "      <td>B00QJDU3KY</td>\n",
       "      <td>Amazon</td>\n",
       "      <td>Amazon</td>\n",
       "      <td>[{\"amountMax\":139.99,\"amountMin\":139.99,\"curre...</td>\n",
       "      <td>1.0</td>\n",
       "      <td>139.0</td>\n",
       "      <td>5.0</td>\n",
       "      <td>I initially had trouble deciding between the p...</td>\n",
       "      <td>0.451948</td>\n",
       "    </tr>\n",
       "    <tr>\n",
       "      <th>1</th>\n",
       "      <td>B00QJDU3KY</td>\n",
       "      <td>Amazon</td>\n",
       "      <td>Amazon</td>\n",
       "      <td>[{\"amountMax\":139.99,\"amountMin\":139.99,\"curre...</td>\n",
       "      <td>1.0</td>\n",
       "      <td>126.0</td>\n",
       "      <td>5.0</td>\n",
       "      <td>Allow me to preface this with a little history...</td>\n",
       "      <td>0.451948</td>\n",
       "    </tr>\n",
       "  </tbody>\n",
       "</table>\n",
       "</div>"
      ],
      "text/plain": [
       "        asins   brand manufacturer  \\\n",
       "0  B00QJDU3KY  Amazon       Amazon   \n",
       "1  B00QJDU3KY  Amazon       Amazon   \n",
       "\n",
       "                                              prices reviews.doRecommend  \\\n",
       "0  [{\"amountMax\":139.99,\"amountMin\":139.99,\"curre...                 1.0   \n",
       "1  [{\"amountMax\":139.99,\"amountMin\":139.99,\"curre...                 1.0   \n",
       "\n",
       "   reviews.numHelpful  reviews.rating  \\\n",
       "0               139.0             5.0   \n",
       "1               126.0             5.0   \n",
       "\n",
       "                                        reviews.text  weight_in_pounds  \n",
       "0  I initially had trouble deciding between the p...          0.451948  \n",
       "1  Allow me to preface this with a little history...          0.451948  "
      ]
     },
     "execution_count": 20,
     "metadata": {},
     "output_type": "execute_result"
    }
   ],
   "source": [
    "def convert_to_grams(weight):\n",
    "\n",
    "    weight = str(weight).strip().lower()\n",
    "    if 'lbs' in weight:\n",
    "        return float(weight.replace('lbs', '').strip())\n",
    "    elif 'ounces' in weight:\n",
    "        return float(weight.replace('ounces', '').strip()) / 16  # 1 pound = 16 ounces\n",
    "    elif 'grams' in weight:\n",
    "        return float(weight.replace('grams', '').strip()) / 453.592  # 1 pound = 453.592 grams\n",
    "    else:\n",
    "        return None  # Handling unknown units or missing values\n",
    "\n",
    "# Apply conversion function to 'weight' column\n",
    "df['weight_in_pounds'] = df['weight'].apply(convert_to_grams)\n",
    "\n",
    "#Removing the original \"weight\" column\n",
    "df.drop('weight', axis = 1, inplace = True)\n",
    "\n",
    "# Filling missing values with zero \n",
    "df['weight_in_pounds'].fillna(0, inplace = True)\n",
    "\n",
    "df.head(2)"
   ]
  },
  {
   "cell_type": "code",
   "execution_count": 21,
   "metadata": {},
   "outputs": [
    {
     "data": {
      "text/html": [
       "<div>\n",
       "<style scoped>\n",
       "    .dataframe tbody tr th:only-of-type {\n",
       "        vertical-align: middle;\n",
       "    }\n",
       "\n",
       "    .dataframe tbody tr th {\n",
       "        vertical-align: top;\n",
       "    }\n",
       "\n",
       "    .dataframe thead th {\n",
       "        text-align: right;\n",
       "    }\n",
       "</style>\n",
       "<table border=\"1\" class=\"dataframe\">\n",
       "  <thead>\n",
       "    <tr style=\"text-align: right;\">\n",
       "      <th></th>\n",
       "      <th>reviews.numHelpful</th>\n",
       "      <th>reviews.rating</th>\n",
       "      <th>weight_in_pounds</th>\n",
       "    </tr>\n",
       "  </thead>\n",
       "  <tbody>\n",
       "    <tr>\n",
       "      <th>count</th>\n",
       "      <td>1177.000000</td>\n",
       "      <td>1177.000000</td>\n",
       "      <td>1177.000000</td>\n",
       "    </tr>\n",
       "    <tr>\n",
       "      <th>mean</th>\n",
       "      <td>63.913339</td>\n",
       "      <td>4.359388</td>\n",
       "      <td>0.825577</td>\n",
       "    </tr>\n",
       "    <tr>\n",
       "      <th>std</th>\n",
       "      <td>175.986783</td>\n",
       "      <td>1.021445</td>\n",
       "      <td>0.857396</td>\n",
       "    </tr>\n",
       "    <tr>\n",
       "      <th>min</th>\n",
       "      <td>0.000000</td>\n",
       "      <td>1.000000</td>\n",
       "      <td>0.000000</td>\n",
       "    </tr>\n",
       "    <tr>\n",
       "      <th>25%</th>\n",
       "      <td>0.000000</td>\n",
       "      <td>4.000000</td>\n",
       "      <td>0.000000</td>\n",
       "    </tr>\n",
       "    <tr>\n",
       "      <th>50%</th>\n",
       "      <td>0.000000</td>\n",
       "      <td>5.000000</td>\n",
       "      <td>0.250000</td>\n",
       "    </tr>\n",
       "    <tr>\n",
       "      <th>75%</th>\n",
       "      <td>8.000000</td>\n",
       "      <td>5.000000</td>\n",
       "      <td>1.750000</td>\n",
       "    </tr>\n",
       "    <tr>\n",
       "      <th>max</th>\n",
       "      <td>997.000000</td>\n",
       "      <td>5.000000</td>\n",
       "      <td>1.750000</td>\n",
       "    </tr>\n",
       "  </tbody>\n",
       "</table>\n",
       "</div>"
      ],
      "text/plain": [
       "       reviews.numHelpful  reviews.rating  weight_in_pounds\n",
       "count         1177.000000     1177.000000       1177.000000\n",
       "mean            63.913339        4.359388          0.825577\n",
       "std            175.986783        1.021445          0.857396\n",
       "min              0.000000        1.000000          0.000000\n",
       "25%              0.000000        4.000000          0.000000\n",
       "50%              0.000000        5.000000          0.250000\n",
       "75%              8.000000        5.000000          1.750000\n",
       "max            997.000000        5.000000          1.750000"
      ]
     },
     "execution_count": 21,
     "metadata": {},
     "output_type": "execute_result"
    }
   ],
   "source": [
    "# descriptive statistics of the numerical columns\n",
    "df.describe()"
   ]
  },
  {
   "cell_type": "code",
   "execution_count": 22,
   "metadata": {},
   "outputs": [
    {
     "data": {
      "text/html": [
       "<div>\n",
       "<style scoped>\n",
       "    .dataframe tbody tr th:only-of-type {\n",
       "        vertical-align: middle;\n",
       "    }\n",
       "\n",
       "    .dataframe tbody tr th {\n",
       "        vertical-align: top;\n",
       "    }\n",
       "\n",
       "    .dataframe thead th {\n",
       "        text-align: right;\n",
       "    }\n",
       "</style>\n",
       "<table border=\"1\" class=\"dataframe\">\n",
       "  <thead>\n",
       "    <tr style=\"text-align: right;\">\n",
       "      <th></th>\n",
       "      <th>asins</th>\n",
       "      <th>brand</th>\n",
       "      <th>manufacturer</th>\n",
       "      <th>prices</th>\n",
       "      <th>reviews.doRecommend</th>\n",
       "      <th>reviews.text</th>\n",
       "    </tr>\n",
       "  </thead>\n",
       "  <tbody>\n",
       "    <tr>\n",
       "      <th>count</th>\n",
       "      <td>1177</td>\n",
       "      <td>1177</td>\n",
       "      <td>1177</td>\n",
       "      <td>1177</td>\n",
       "      <td>1177.0</td>\n",
       "      <td>1177</td>\n",
       "    </tr>\n",
       "    <tr>\n",
       "      <th>unique</th>\n",
       "      <td>54</td>\n",
       "      <td>2</td>\n",
       "      <td>3</td>\n",
       "      <td>66</td>\n",
       "      <td>2.0</td>\n",
       "      <td>908</td>\n",
       "    </tr>\n",
       "    <tr>\n",
       "      <th>top</th>\n",
       "      <td>B01BH83OOM</td>\n",
       "      <td>Amazon</td>\n",
       "      <td>Amazon</td>\n",
       "      <td>[{\"amountMax\":129.99,\"amountMin\":129.99,\"curre...</td>\n",
       "      <td>1.0</td>\n",
       "      <td>While I've purchased items from Amazon for yea...</td>\n",
       "    </tr>\n",
       "    <tr>\n",
       "      <th>freq</th>\n",
       "      <td>542</td>\n",
       "      <td>1165</td>\n",
       "      <td>649</td>\n",
       "      <td>542</td>\n",
       "      <td>1141.0</td>\n",
       "      <td>38</td>\n",
       "    </tr>\n",
       "  </tbody>\n",
       "</table>\n",
       "</div>"
      ],
      "text/plain": [
       "             asins   brand manufacturer  \\\n",
       "count         1177    1177         1177   \n",
       "unique          54       2            3   \n",
       "top     B01BH83OOM  Amazon       Amazon   \n",
       "freq           542    1165          649   \n",
       "\n",
       "                                                   prices  \\\n",
       "count                                                1177   \n",
       "unique                                                 66   \n",
       "top     [{\"amountMax\":129.99,\"amountMin\":129.99,\"curre...   \n",
       "freq                                                  542   \n",
       "\n",
       "        reviews.doRecommend                                       reviews.text  \n",
       "count                1177.0                                               1177  \n",
       "unique                  2.0                                                908  \n",
       "top                     1.0  While I've purchased items from Amazon for yea...  \n",
       "freq                 1141.0                                                 38  "
      ]
     },
     "execution_count": 22,
     "metadata": {},
     "output_type": "execute_result"
    }
   ],
   "source": [
    "# descriptive statistics for categorical columns\n",
    "df.describe(include='object')"
   ]
  },
  {
   "attachments": {},
   "cell_type": "markdown",
   "metadata": {},
   "source": [
    "**Note:**  The 'prices' column contained nested \n",
    "JSON document.y, indicating thait is necessaryt additional processigy to extract relevant price information for further analysis."
   ]
  },
  {
   "cell_type": "code",
   "execution_count": 23,
   "metadata": {},
   "outputs": [
    {
     "data": {
      "text/html": [
       "<div>\n",
       "<style scoped>\n",
       "    .dataframe tbody tr th:only-of-type {\n",
       "        vertical-align: middle;\n",
       "    }\n",
       "\n",
       "    .dataframe tbody tr th {\n",
       "        vertical-align: top;\n",
       "    }\n",
       "\n",
       "    .dataframe thead th {\n",
       "        text-align: right;\n",
       "    }\n",
       "</style>\n",
       "<table border=\"1\" class=\"dataframe\">\n",
       "  <thead>\n",
       "    <tr style=\"text-align: right;\">\n",
       "      <th></th>\n",
       "      <th>asins</th>\n",
       "      <th>brand</th>\n",
       "      <th>manufacturer</th>\n",
       "      <th>reviews.doRecommend</th>\n",
       "      <th>reviews.numHelpful</th>\n",
       "      <th>reviews.rating</th>\n",
       "      <th>reviews.text</th>\n",
       "      <th>weight_in_pounds</th>\n",
       "      <th>cleaned_prices</th>\n",
       "    </tr>\n",
       "  </thead>\n",
       "  <tbody>\n",
       "    <tr>\n",
       "      <th>0</th>\n",
       "      <td>B00QJDU3KY</td>\n",
       "      <td>Amazon</td>\n",
       "      <td>Amazon</td>\n",
       "      <td>1.0</td>\n",
       "      <td>139.0</td>\n",
       "      <td>5.0</td>\n",
       "      <td>I initially had trouble deciding between the p...</td>\n",
       "      <td>0.451948</td>\n",
       "      <td>139.99</td>\n",
       "    </tr>\n",
       "    <tr>\n",
       "      <th>1</th>\n",
       "      <td>B00QJDU3KY</td>\n",
       "      <td>Amazon</td>\n",
       "      <td>Amazon</td>\n",
       "      <td>1.0</td>\n",
       "      <td>126.0</td>\n",
       "      <td>5.0</td>\n",
       "      <td>Allow me to preface this with a little history...</td>\n",
       "      <td>0.451948</td>\n",
       "      <td>139.99</td>\n",
       "    </tr>\n",
       "  </tbody>\n",
       "</table>\n",
       "</div>"
      ],
      "text/plain": [
       "        asins   brand manufacturer reviews.doRecommend  reviews.numHelpful  \\\n",
       "0  B00QJDU3KY  Amazon       Amazon                 1.0               139.0   \n",
       "1  B00QJDU3KY  Amazon       Amazon                 1.0               126.0   \n",
       "\n",
       "   reviews.rating                                       reviews.text  \\\n",
       "0             5.0  I initially had trouble deciding between the p...   \n",
       "1             5.0  Allow me to preface this with a little history...   \n",
       "\n",
       "   weight_in_pounds  cleaned_prices  \n",
       "0          0.451948          139.99  \n",
       "1          0.451948          139.99  "
      ]
     },
     "execution_count": 23,
     "metadata": {},
     "output_type": "execute_result"
    }
   ],
   "source": [
    "# Convert list of dictionaries to JSON strings\n",
    "json_strings = [json.dumps(item) for item in df]\n",
    "\n",
    "# Clean the prices column\n",
    "def clean_prices(prices):\n",
    "    try:\n",
    "        price_info = json.loads(prices)\n",
    "        for entry in price_info:\n",
    "            if entry.get('currency') == 'USD':\n",
    "                return entry['amountMax']\n",
    "        return None\n",
    "    except:\n",
    "        return None\n",
    "\n",
    "# Apply the cleaning function to the prices column\n",
    "df['cleaned_prices'] = df['prices'].apply(clean_prices)\n",
    "\n",
    "#Removing the original \"prices\" column\n",
    "df.drop('prices', axis = 1, inplace = True)\n",
    "\n",
    "df.head(2)"
   ]
  },
  {
   "cell_type": "code",
   "execution_count": 24,
   "metadata": {},
   "outputs": [],
   "source": [
    "#Lets  review the dataset to make the price function is right\n",
    "df.to_csv('cleaned_data.csv', index=False)"
   ]
  },
  {
   "cell_type": "code",
   "execution_count": 25,
   "metadata": {},
   "outputs": [
    {
     "data": {
      "text/plain": [
       "reviews.rating\n",
       "5.0    741\n",
       "4.0    236\n",
       "3.0    124\n",
       "1.0     42\n",
       "2.0     34\n",
       "Name: count, dtype: int64"
      ]
     },
     "execution_count": 25,
     "metadata": {},
     "output_type": "execute_result"
    }
   ],
   "source": [
    "#Encoding the target variable \n",
    "df['reviews.rating'].value_counts()"
   ]
  },
  {
   "cell_type": "code",
   "execution_count": 26,
   "metadata": {},
   "outputs": [],
   "source": [
    "# Define a function to encode ratings as positive (1) or negative (0)\n",
    "def encode_rating(rating):\n",
    "    if rating >= 4.0:\n",
    "        return 1  # Positive\n",
    "    else:\n",
    "        return 0  # Negative\n",
    "\n",
    "# Apply the function to create a new column 'rating_sentiment'\n",
    "df['rating_sentiment'] = df['reviews.rating'].apply(encode_rating)"
   ]
  },
  {
   "cell_type": "code",
   "execution_count": 27,
   "metadata": {},
   "outputs": [
    {
     "data": {
      "text/plain": [
       "rating_sentiment\n",
       "1    977\n",
       "0    200\n",
       "Name: count, dtype: int64"
      ]
     },
     "execution_count": 27,
     "metadata": {},
     "output_type": "execute_result"
    }
   ],
   "source": [
    "df['rating_sentiment'].value_counts()"
   ]
  },
  {
   "cell_type": "markdown",
   "metadata": {},
   "source": [
    "**Note:** We will create a pipeline for One-hot encode and standardize in the step \"Data Transformation\""
   ]
  },
  {
   "cell_type": "code",
   "execution_count": 28,
   "metadata": {},
   "outputs": [
    {
     "data": {
      "image/png": "[encoded data removed]",
      "text/plain": [
       "<Figure size 1000x600 with 2 Axes>"
      ]
     },
     "metadata": {},
     "output_type": "display_data"
    }
   ],
   "source": [
    "# Create a heatmap using seaborn\n",
    "# Select only the numeric columns\n",
    "numeric_df = df.select_dtypes(include='number')\n",
    "\n",
    "# Plot the correlation heatmap\n",
    "plt.figure(figsize=(10, 6))\n",
    "sns.heatmap(numeric_df.corr(), cmap='coolwarm', annot=True, fmt=\".2f\", linewidths=.5)\n",
    "plt.title('Correlation Heatmap')\n",
    "plt.show()"
   ]
  },
  {
   "cell_type": "markdown",
   "metadata": {},
   "source": [
    "## 3. Text Preprocessing"
   ]
  },
  {
   "cell_type": "markdown",
   "metadata": {},
   "source": [
    "Now we are going to perform the following steps in text preprocessing for Natural Language Processing (NLP)\n",
    "-  Stop word removal: Eliminating common words.\n",
    "-  Stemming: Reducing words to their root forms.\n",
    "-  Tokenization: Breaking text into individual units."
   ]
  },
  {
   "cell_type": "code",
   "execution_count": 29,
   "metadata": {},
   "outputs": [],
   "source": [
    "def preprocess_text(text):\n",
    "    # Converting text to lowercase\n",
    "    text = text.lower()\n",
    "    # Removing punctuation, special characters, numbers, and single character terms\n",
    "    text = re.sub('[^a-zA-Z]', ' ', text)\n",
    "    text = re.sub(r\"\\s+[a-zA-Z]\\s+\", ' ', text)\n",
    "    text = re.sub(r'\\b\\w\\b', '', text)\n",
    "    return text\n",
    "\n",
    "# Applying the function to the 'reviews.text' column\n",
    "df['reviews.text_cleaned'] = df['reviews.text'].apply(preprocess_text)"
   ]
  },
  {
   "cell_type": "code",
   "execution_count": 30,
   "metadata": {},
   "outputs": [
    {
     "name": "stdout",
     "output_type": "stream",
     "text": [
      "                                reviews.text_cleaned  \\\n",
      "0   initially had trouble deciding between the pa...   \n",
      "1  allow me to preface this with little history a...   \n",
      "2   am enjoying it so far  great for reading  had...   \n",
      "3   bought one of the first paperwhites and have ...   \n",
      "4   have to say upfront don like coroporate  herm...   \n",
      "\n",
      "                                        reviews.text  \n",
      "0  I initially had trouble deciding between the p...  \n",
      "1  Allow me to preface this with a little history...  \n",
      "2  I am enjoying it so far. Great for reading. Ha...  \n",
      "3  I bought one of the first Paperwhites and have...  \n",
      "4  I have to say upfront - I don't like coroporat...  \n"
     ]
    }
   ],
   "source": [
    "print(df[['reviews.text_cleaned', 'reviews.text']].head())"
   ]
  },
  {
   "cell_type": "code",
   "execution_count": 31,
   "metadata": {},
   "outputs": [
    {
     "name": "stderr",
     "output_type": "stream",
     "text": [
      "[nltk_data] Downloading package punkt to\n",
      "[nltk_data]     C:\\Users\\adria\\AppData\\Roaming\\nltk_data...\n",
      "[nltk_data]   Package punkt is already up-to-date!\n",
      "[nltk_data] Downloading package stopwords to\n",
      "[nltk_data]     C:\\Users\\adria\\AppData\\Roaming\\nltk_data...\n",
      "[nltk_data]   Package stopwords is already up-to-date!\n"
     ]
    },
    {
     "name": "stdout",
     "output_type": "stream",
     "text": [
      "                                reviews.text_cleaned  \\\n",
      "0  [initi, troubl, decid, paperwhit, voyag, revie...   \n",
      "1  [allow, prefac, littl, histori, casual, reader...   \n",
      "2  [enjoy, far, great, read, origin, fire, sinc, ...   \n",
      "3  [bought, one, first, paperwhit, pleas, constan...   \n",
      "4  [say, upfront, like, coropor, hermet, close, s...   \n",
      "\n",
      "                                        reviews.text  \n",
      "0  I initially had trouble deciding between the p...  \n",
      "1  Allow me to preface this with a little history...  \n",
      "2  I am enjoying it so far. Great for reading. Ha...  \n",
      "3  I bought one of the first Paperwhites and have...  \n",
      "4  I have to say upfront - I don't like coroporat...  \n"
     ]
    }
   ],
   "source": [
    "# Download NLTK resources\n",
    "nltk.download('punkt')\n",
    "nltk.download('stopwords')\n",
    "\n",
    "def remove_stopwords(text):\n",
    "    stop_words = set(stopwords.words('english'))\n",
    "    tokens = word_tokenize(text)\n",
    "    filtered_text = [word for word in tokens if word not in stop_words]\n",
    "    return ' '.join(filtered_text)\n",
    "\n",
    "def stem_text(text):\n",
    "    ps = PorterStemmer()\n",
    "    tokens = word_tokenize(text)\n",
    "    stemmed_text = [ps.stem(word) for word in tokens]\n",
    "    return ' '.join(stemmed_text)\n",
    "\n",
    "def tokenize_text(text):\n",
    "    return word_tokenize(text)\n",
    "\n",
    "# Applying the functions to the 'reviews.text_cleaned' column\n",
    "df['reviews.text_cleaned'] = df['reviews.text_cleaned'].apply(remove_stopwords)\n",
    "df['reviews.text_cleaned'] = df['reviews.text_cleaned'].apply(stem_text)\n",
    "df['reviews.text_cleaned'] = df['reviews.text_cleaned'].apply(tokenize_text)\n",
    "\n",
    "print(df[['reviews.text_cleaned', 'reviews.text']].head())"
   ]
  },
  {
   "cell_type": "code",
   "execution_count": 32,
   "metadata": {},
   "outputs": [
    {
     "data": {
      "image/png": "[encoded data removed]",
      "text/plain": [
       "<Figure size 800x600 with 1 Axes>"
      ]
     },
     "metadata": {},
     "output_type": "display_data"
    }
   ],
   "source": [
    "# Flatten the list of lists\n",
    "all_words = [word for sublist in df['reviews.text_cleaned'] for word in sublist]\n",
    "\n",
    "# Count the frequency of each word\n",
    "word_counts = pd.Series(all_words).value_counts().sort_values(ascending=False)\n",
    "\n",
    "# Plot the top N most frequent words\n",
    "top_n = 30 \n",
    "plt.figure(figsize=(8, 6))\n",
    "sns.barplot(x=word_counts.head(top_n).values, y=word_counts.head(top_n).index, palette='viridis')\n",
    "plt.xlabel('Frequency')\n",
    "plt.ylabel('Word')\n",
    "plt.title('Top {} Most Frequent Words'.format(top_n))\n",
    "plt.tight_layout()\n",
    "plt.show()"
   ]
  },
  {
   "cell_type": "markdown",
   "metadata": {},
   "source": [
    "## 4. Feature Extraction"
   ]
  },
  {
   "cell_type": "markdown",
   "metadata": {},
   "source": [
    "Now, we are going to transform preprocessed textual data into numerical representations using Bag of Words (BoW) and TF-IDF techniques."
   ]
  },
  {
   "cell_type": "code",
   "execution_count": 33,
   "metadata": {},
   "outputs": [
    {
     "data": {
      "text/html": [
       "<div>\n",
       "<style scoped>\n",
       "    .dataframe tbody tr th:only-of-type {\n",
       "        vertical-align: middle;\n",
       "    }\n",
       "\n",
       "    .dataframe tbody tr th {\n",
       "        vertical-align: top;\n",
       "    }\n",
       "\n",
       "    .dataframe thead th {\n",
       "        text-align: right;\n",
       "    }\n",
       "</style>\n",
       "<table border=\"1\" class=\"dataframe\">\n",
       "  <thead>\n",
       "    <tr style=\"text-align: right;\">\n",
       "      <th></th>\n",
       "      <th>asins</th>\n",
       "      <th>brand</th>\n",
       "      <th>manufacturer</th>\n",
       "      <th>reviews.doRecommend</th>\n",
       "      <th>reviews.numHelpful</th>\n",
       "      <th>reviews.rating</th>\n",
       "      <th>reviews.text</th>\n",
       "      <th>weight_in_pounds</th>\n",
       "      <th>cleaned_prices</th>\n",
       "      <th>rating_sentiment</th>\n",
       "      <th>reviews.text_cleaned</th>\n",
       "      <th>total_word_frequency</th>\n",
       "    </tr>\n",
       "  </thead>\n",
       "  <tbody>\n",
       "    <tr>\n",
       "      <th>0</th>\n",
       "      <td>B00QJDU3KY</td>\n",
       "      <td>Amazon</td>\n",
       "      <td>Amazon</td>\n",
       "      <td>1.0</td>\n",
       "      <td>139.0</td>\n",
       "      <td>5.0</td>\n",
       "      <td>I initially had trouble deciding between the p...</td>\n",
       "      <td>0.451948</td>\n",
       "      <td>139.99</td>\n",
       "      <td>1</td>\n",
       "      <td>[initi, troubl, decid, paperwhit, voyag, revie...</td>\n",
       "      <td>91.0</td>\n",
       "    </tr>\n",
       "    <tr>\n",
       "      <th>1</th>\n",
       "      <td>B00QJDU3KY</td>\n",
       "      <td>Amazon</td>\n",
       "      <td>Amazon</td>\n",
       "      <td>1.0</td>\n",
       "      <td>126.0</td>\n",
       "      <td>5.0</td>\n",
       "      <td>Allow me to preface this with a little history...</td>\n",
       "      <td>0.451948</td>\n",
       "      <td>139.99</td>\n",
       "      <td>1</td>\n",
       "      <td>[allow, prefac, littl, histori, casual, reader...</td>\n",
       "      <td>124.0</td>\n",
       "    </tr>\n",
       "    <tr>\n",
       "      <th>2</th>\n",
       "      <td>B00QJDU3KY</td>\n",
       "      <td>Amazon</td>\n",
       "      <td>Amazon</td>\n",
       "      <td>1.0</td>\n",
       "      <td>69.0</td>\n",
       "      <td>4.0</td>\n",
       "      <td>I am enjoying it so far. Great for reading. Ha...</td>\n",
       "      <td>0.451948</td>\n",
       "      <td>139.99</td>\n",
       "      <td>1</td>\n",
       "      <td>[enjoy, far, great, read, origin, fire, sinc, ...</td>\n",
       "      <td>17.0</td>\n",
       "    </tr>\n",
       "    <tr>\n",
       "      <th>3</th>\n",
       "      <td>B00QJDU3KY</td>\n",
       "      <td>Amazon</td>\n",
       "      <td>Amazon</td>\n",
       "      <td>1.0</td>\n",
       "      <td>2.0</td>\n",
       "      <td>5.0</td>\n",
       "      <td>I bought one of the first Paperwhites and have...</td>\n",
       "      <td>0.451948</td>\n",
       "      <td>139.99</td>\n",
       "      <td>1</td>\n",
       "      <td>[bought, one, first, paperwhit, pleas, constan...</td>\n",
       "      <td>154.0</td>\n",
       "    </tr>\n",
       "    <tr>\n",
       "      <th>4</th>\n",
       "      <td>B00QJDU3KY</td>\n",
       "      <td>Amazon</td>\n",
       "      <td>Amazon</td>\n",
       "      <td>1.0</td>\n",
       "      <td>17.0</td>\n",
       "      <td>5.0</td>\n",
       "      <td>I have to say upfront - I don't like coroporat...</td>\n",
       "      <td>0.451948</td>\n",
       "      <td>139.99</td>\n",
       "      <td>1</td>\n",
       "      <td>[say, upfront, like, coropor, hermet, close, s...</td>\n",
       "      <td>171.0</td>\n",
       "    </tr>\n",
       "  </tbody>\n",
       "</table>\n",
       "</div>"
      ],
      "text/plain": [
       "        asins   brand manufacturer reviews.doRecommend  reviews.numHelpful  \\\n",
       "0  B00QJDU3KY  Amazon       Amazon                 1.0               139.0   \n",
       "1  B00QJDU3KY  Amazon       Amazon                 1.0               126.0   \n",
       "2  B00QJDU3KY  Amazon       Amazon                 1.0                69.0   \n",
       "3  B00QJDU3KY  Amazon       Amazon                 1.0                 2.0   \n",
       "4  B00QJDU3KY  Amazon       Amazon                 1.0                17.0   \n",
       "\n",
       "   reviews.rating                                       reviews.text  \\\n",
       "0             5.0  I initially had trouble deciding between the p...   \n",
       "1             5.0  Allow me to preface this with a little history...   \n",
       "2             4.0  I am enjoying it so far. Great for reading. Ha...   \n",
       "3             5.0  I bought one of the first Paperwhites and have...   \n",
       "4             5.0  I have to say upfront - I don't like coroporat...   \n",
       "\n",
       "   weight_in_pounds  cleaned_prices  rating_sentiment  \\\n",
       "0          0.451948          139.99                 1   \n",
       "1          0.451948          139.99                 1   \n",
       "2          0.451948          139.99                 1   \n",
       "3          0.451948          139.99                 1   \n",
       "4          0.451948          139.99                 1   \n",
       "\n",
       "                                reviews.text_cleaned  total_word_frequency  \n",
       "0  [initi, troubl, decid, paperwhit, voyag, revie...                  91.0  \n",
       "1  [allow, prefac, littl, histori, casual, reader...                 124.0  \n",
       "2  [enjoy, far, great, read, origin, fire, sinc, ...                  17.0  \n",
       "3  [bought, one, first, paperwhit, pleas, constan...                 154.0  \n",
       "4  [say, upfront, like, coropor, hermet, close, s...                 171.0  "
      ]
     },
     "execution_count": 33,
     "metadata": {},
     "output_type": "execute_result"
    }
   ],
   "source": [
    "from sklearn.feature_extraction.text import CountVectorizer\n",
    "\n",
    "def add_word_frequency_feature(dataframe, text_column):\n",
    "    # Joining the tokenized text lists into strings\n",
    "    dataframe['joined_text'] = dataframe[text_column].apply(lambda x: ' '.join(x))\n",
    "    \n",
    "    # Initialize the CountVectorizer\n",
    "    vectorizer = CountVectorizer()\n",
    "\n",
    "    # Fit and transform the text data\n",
    "    X = vectorizer.fit_transform(dataframe['joined_text'])\n",
    "\n",
    "    # Convert the sparse matrix to a DataFrame\n",
    "    word_frequency_df = pd.DataFrame(X.toarray(), columns=vectorizer.get_feature_names_out())\n",
    "\n",
    "    # Calculate the frequency of each word in each document\n",
    "    word_frequency_df['total_word_frequency'] = word_frequency_df.sum(axis=1)\n",
    "\n",
    "    # Add the 'total_word_frequency' column to the original DataFrame\n",
    "    dataframe['total_word_frequency'] = word_frequency_df['total_word_frequency']\n",
    "\n",
    "    # Drop the temporary 'joined_text' column\n",
    "    dataframe.drop(columns=['joined_text'], inplace=True)\n",
    "\n",
    "\n",
    "# Adding total word frequency feature\n",
    "add_word_frequency_feature(df,'reviews.text_cleaned')\n",
    "\n",
    "# Display the updated DataFrame\n",
    "df.head()"
   ]
  },
  {
   "cell_type": "code",
   "execution_count": 34,
   "metadata": {},
   "outputs": [
    {
     "data": {
      "text/html": [
       "<div>\n",
       "<style scoped>\n",
       "    .dataframe tbody tr th:only-of-type {\n",
       "        vertical-align: middle;\n",
       "    }\n",
       "\n",
       "    .dataframe tbody tr th {\n",
       "        vertical-align: top;\n",
       "    }\n",
       "\n",
       "    .dataframe thead th {\n",
       "        text-align: right;\n",
       "    }\n",
       "</style>\n",
       "<table border=\"1\" class=\"dataframe\">\n",
       "  <thead>\n",
       "    <tr style=\"text-align: right;\">\n",
       "      <th></th>\n",
       "      <th>asins</th>\n",
       "      <th>brand</th>\n",
       "      <th>manufacturer</th>\n",
       "      <th>reviews.doRecommend</th>\n",
       "      <th>reviews.numHelpful</th>\n",
       "      <th>reviews.rating</th>\n",
       "      <th>reviews.text</th>\n",
       "      <th>weight_in_pounds</th>\n",
       "      <th>cleaned_prices</th>\n",
       "      <th>rating_sentiment</th>\n",
       "      <th>reviews.text_cleaned</th>\n",
       "      <th>total_word_frequency</th>\n",
       "      <th>average_word_length</th>\n",
       "    </tr>\n",
       "  </thead>\n",
       "  <tbody>\n",
       "    <tr>\n",
       "      <th>0</th>\n",
       "      <td>B00QJDU3KY</td>\n",
       "      <td>Amazon</td>\n",
       "      <td>Amazon</td>\n",
       "      <td>1.0</td>\n",
       "      <td>139.0</td>\n",
       "      <td>5.0</td>\n",
       "      <td>I initially had trouble deciding between the p...</td>\n",
       "      <td>0.451948</td>\n",
       "      <td>139.99</td>\n",
       "      <td>1</td>\n",
       "      <td>[initi, troubl, decid, paperwhit, voyag, revie...</td>\n",
       "      <td>91.0</td>\n",
       "      <td>80.592518</td>\n",
       "    </tr>\n",
       "    <tr>\n",
       "      <th>1</th>\n",
       "      <td>B00QJDU3KY</td>\n",
       "      <td>Amazon</td>\n",
       "      <td>Amazon</td>\n",
       "      <td>1.0</td>\n",
       "      <td>126.0</td>\n",
       "      <td>5.0</td>\n",
       "      <td>Allow me to preface this with a little history...</td>\n",
       "      <td>0.451948</td>\n",
       "      <td>139.99</td>\n",
       "      <td>1</td>\n",
       "      <td>[allow, prefac, littl, histori, casual, reader...</td>\n",
       "      <td>124.0</td>\n",
       "      <td>111.149784</td>\n",
       "    </tr>\n",
       "    <tr>\n",
       "      <th>2</th>\n",
       "      <td>B00QJDU3KY</td>\n",
       "      <td>Amazon</td>\n",
       "      <td>Amazon</td>\n",
       "      <td>1.0</td>\n",
       "      <td>69.0</td>\n",
       "      <td>4.0</td>\n",
       "      <td>I am enjoying it so far. Great for reading. Ha...</td>\n",
       "      <td>0.451948</td>\n",
       "      <td>139.99</td>\n",
       "      <td>1</td>\n",
       "      <td>[enjoy, far, great, read, origin, fire, sinc, ...</td>\n",
       "      <td>17.0</td>\n",
       "      <td>13.400521</td>\n",
       "    </tr>\n",
       "    <tr>\n",
       "      <th>3</th>\n",
       "      <td>B00QJDU3KY</td>\n",
       "      <td>Amazon</td>\n",
       "      <td>Amazon</td>\n",
       "      <td>1.0</td>\n",
       "      <td>2.0</td>\n",
       "      <td>5.0</td>\n",
       "      <td>I bought one of the first Paperwhites and have...</td>\n",
       "      <td>0.451948</td>\n",
       "      <td>139.99</td>\n",
       "      <td>1</td>\n",
       "      <td>[bought, one, first, paperwhit, pleas, constan...</td>\n",
       "      <td>154.0</td>\n",
       "      <td>139.096674</td>\n",
       "    </tr>\n",
       "    <tr>\n",
       "      <th>4</th>\n",
       "      <td>B00QJDU3KY</td>\n",
       "      <td>Amazon</td>\n",
       "      <td>Amazon</td>\n",
       "      <td>1.0</td>\n",
       "      <td>17.0</td>\n",
       "      <td>5.0</td>\n",
       "      <td>I have to say upfront - I don't like coroporat...</td>\n",
       "      <td>0.451948</td>\n",
       "      <td>139.99</td>\n",
       "      <td>1</td>\n",
       "      <td>[say, upfront, like, coropor, hermet, close, s...</td>\n",
       "      <td>171.0</td>\n",
       "      <td>153.446084</td>\n",
       "    </tr>\n",
       "  </tbody>\n",
       "</table>\n",
       "</div>"
      ],
      "text/plain": [
       "        asins   brand manufacturer reviews.doRecommend  reviews.numHelpful  \\\n",
       "0  B00QJDU3KY  Amazon       Amazon                 1.0               139.0   \n",
       "1  B00QJDU3KY  Amazon       Amazon                 1.0               126.0   \n",
       "2  B00QJDU3KY  Amazon       Amazon                 1.0                69.0   \n",
       "3  B00QJDU3KY  Amazon       Amazon                 1.0                 2.0   \n",
       "4  B00QJDU3KY  Amazon       Amazon                 1.0                17.0   \n",
       "\n",
       "   reviews.rating                                       reviews.text  \\\n",
       "0             5.0  I initially had trouble deciding between the p...   \n",
       "1             5.0  Allow me to preface this with a little history...   \n",
       "2             4.0  I am enjoying it so far. Great for reading. Ha...   \n",
       "3             5.0  I bought one of the first Paperwhites and have...   \n",
       "4             5.0  I have to say upfront - I don't like coroporat...   \n",
       "\n",
       "   weight_in_pounds  cleaned_prices  rating_sentiment  \\\n",
       "0          0.451948          139.99                 1   \n",
       "1          0.451948          139.99                 1   \n",
       "2          0.451948          139.99                 1   \n",
       "3          0.451948          139.99                 1   \n",
       "4          0.451948          139.99                 1   \n",
       "\n",
       "                                reviews.text_cleaned  total_word_frequency  \\\n",
       "0  [initi, troubl, decid, paperwhit, voyag, revie...                  91.0   \n",
       "1  [allow, prefac, littl, histori, casual, reader...                 124.0   \n",
       "2  [enjoy, far, great, read, origin, fire, sinc, ...                  17.0   \n",
       "3  [bought, one, first, paperwhit, pleas, constan...                 154.0   \n",
       "4  [say, upfront, like, coropor, hermet, close, s...                 171.0   \n",
       "\n",
       "   average_word_length  \n",
       "0            80.592518  \n",
       "1           111.149784  \n",
       "2            13.400521  \n",
       "3           139.096674  \n",
       "4           153.446084  "
      ]
     },
     "execution_count": 34,
     "metadata": {},
     "output_type": "execute_result"
    }
   ],
   "source": [
    "from sklearn.feature_extraction.text import TfidfVectorizer\n",
    "\n",
    "def average_word_length(dataframe, text_column):\n",
    "    # Joining the tokenized text lists into strings\n",
    "    dataframe['joined_text'] = dataframe[text_column].apply(lambda x: ' '.join(x))\n",
    "    \n",
    "    # Initialize the TfidfVectorizer\n",
    "    vectorizer = TfidfVectorizer()\n",
    "\n",
    "    # Fit and transform the text data\n",
    "    X_tfidf = vectorizer.fit_transform(dataframe['joined_text'])\n",
    "\n",
    "    # Convert the sparse matrix to a DataFrame\n",
    "    tfidf_df = pd.DataFrame(X_tfidf.toarray(), columns=vectorizer.get_feature_names_out())\n",
    "\n",
    "    # Calculate the average word length\n",
    "    word_lengths = dataframe['joined_text'].apply(lambda x: len(x.split()))\n",
    "    tfidf_df['average_word_length'] = tfidf_df.mul(word_lengths, axis=0).sum(axis=1) / (tfidf_df.sum(axis=1) + 1)\n",
    "\n",
    "    # Add the 'average_word_length' column to the original DataFrame\n",
    "    dataframe['average_word_length'] = tfidf_df['average_word_length']\n",
    "\n",
    "    # Drop the temporary 'joined_text' column\n",
    "    dataframe.drop(columns=['joined_text'], inplace=True)\n",
    "\n",
    "# Adding TF-IDF average word length\n",
    "average_word_length(df,'reviews.text_cleaned')\n",
    "\n",
    "# Display the updated DataFrame\n",
    "df.head()"
   ]
  },
  {
   "cell_type": "code",
   "execution_count": 35,
   "metadata": {},
   "outputs": [],
   "source": [
    "# Now, we are going to create a copy of this dataset and drop the text columns\n",
    "df2=df.copy()\n",
    "df2.drop('reviews.text',         axis = 1, inplace = True)\n",
    "df2.drop('reviews.text_cleaned',   axis = 1, inplace = True)"
   ]
  },
  {
   "cell_type": "code",
   "execution_count": 36,
   "metadata": {},
   "outputs": [
    {
     "name": "stdout",
     "output_type": "stream",
     "text": [
      "<class 'pandas.core.frame.DataFrame'>\n",
      "Index: 1177 entries, 0 to 1596\n",
      "Data columns (total 11 columns):\n",
      " #   Column                Non-Null Count  Dtype  \n",
      "---  ------                --------------  -----  \n",
      " 0   asins                 1177 non-null   object \n",
      " 1   brand                 1177 non-null   object \n",
      " 2   manufacturer          1177 non-null   object \n",
      " 3   reviews.doRecommend   1177 non-null   object \n",
      " 4   reviews.numHelpful    1177 non-null   float64\n",
      " 5   reviews.rating        1177 non-null   float64\n",
      " 6   weight_in_pounds      1177 non-null   float64\n",
      " 7   cleaned_prices        1177 non-null   float64\n",
      " 8   rating_sentiment      1177 non-null   int64  \n",
      " 9   total_word_frequency  813 non-null    float64\n",
      " 10  average_word_length   813 non-null    float64\n",
      "dtypes: float64(6), int64(1), object(4)\n",
      "memory usage: 110.3+ KB\n"
     ]
    }
   ],
   "source": [
    "#Lets review nulls\n",
    "df2.info()"
   ]
  },
  {
   "cell_type": "code",
   "execution_count": 37,
   "metadata": {},
   "outputs": [],
   "source": [
    "# Droppoing the columns with null values\n",
    "df2.dropna(inplace=True)"
   ]
  },
  {
   "cell_type": "markdown",
   "metadata": {},
   "source": [
    "## 5.Data Transformation"
   ]
  },
  {
   "cell_type": "code",
   "execution_count": 38,
   "metadata": {},
   "outputs": [
    {
     "data": {
      "text/plain": [
       "asins                    object\n",
       "brand                    object\n",
       "manufacturer             object\n",
       "reviews.doRecommend      object\n",
       "reviews.numHelpful      float64\n",
       "reviews.rating          float64\n",
       "weight_in_pounds        float64\n",
       "cleaned_prices          float64\n",
       "rating_sentiment          int64\n",
       "total_word_frequency    float64\n",
       "average_word_length     float64\n",
       "dtype: object"
      ]
     },
     "execution_count": 38,
     "metadata": {},
     "output_type": "execute_result"
    }
   ],
   "source": [
    "df2.dtypes"
   ]
  },
  {
   "cell_type": "code",
   "execution_count": 39,
   "metadata": {},
   "outputs": [],
   "source": [
    "from sklearn.pipeline import Pipeline\n",
    "from sklearn.compose import ColumnTransformer\n",
    "from sklearn.preprocessing import OneHotEncoder, StandardScaler\n",
    "\n",
    "# Columns to one-hot encode\n",
    "categorical_cols = ['asins', 'brand', 'manufacturer', 'reviews.doRecommend']\n",
    "# Columns to standardize (if any)\n",
    "numeric_cols = ['reviews.numHelpful','weight_in_pounds','cleaned_prices','rating_sentiment','total_word_frequency','average_word_length']  # You can add numeric columns here\n",
    "\n",
    "# Define the preprocessing steps for different column types\n",
    "preprocessor = ColumnTransformer(\n",
    "    transformers=[\n",
    "        ('cat', OneHotEncoder(), categorical_cols),\n",
    "        ('num', StandardScaler(), numeric_cols)\n",
    "    ])\n",
    "\n",
    "# Create the pipeline\n",
    "pipeline = Pipeline(steps=[('preprocessor', preprocessor)])\n",
    "\n",
    "# Fit and transform the data\n",
    "transformed_data = pipeline.fit_transform(df2)"
   ]
  },
  {
   "cell_type": "code",
   "execution_count": 40,
   "metadata": {},
   "outputs": [
    {
     "data": {
      "text/html": [
       "<style>#sk-container-id-1 {color: black;}#sk-container-id-1 pre{padding: 0;}#sk-container-id-1 div.sk-toggleable {background-color: white;}#sk-container-id-1 label.sk-toggleable__label {cursor: pointer;display: block;width: 100%;margin-bottom: 0;padding: 0.3em;box-sizing: border-box;text-align: center;}#sk-container-id-1 label.sk-toggleable__label-arrow:before {content: \"▸\";float: left;margin-right: 0.25em;color: #696969;}#sk-container-id-1 label.sk-toggleable__label-arrow:hover:before {color: black;}#sk-container-id-1 div.sk-estimator:hover label.sk-toggleable__label-arrow:before {color: black;}#sk-container-id-1 div.sk-toggleable__content {max-height: 0;max-width: 0;overflow: hidden;text-align: left;background-color: #f0f8ff;}#sk-container-id-1 div.sk-toggleable__content pre {margin: 0.2em;color: black;border-radius: 0.25em;background-color: #f0f8ff;}#sk-container-id-1 input.sk-toggleable__control:checked~div.sk-toggleable__content {max-height: 200px;max-width: 100%;overflow: auto;}#sk-container-id-1 input.sk-toggleable__control:checked~label.sk-toggleable__label-arrow:before {content: \"▾\";}#sk-container-id-1 div.sk-estimator input.sk-toggleable__control:checked~label.sk-toggleable__label {background-color: #d4ebff;}#sk-container-id-1 div.sk-label input.sk-toggleable__control:checked~label.sk-toggleable__label {background-color: #d4ebff;}#sk-container-id-1 input.sk-hidden--visually {border: 0;clip: rect(1px 1px 1px 1px);clip: rect(1px, 1px, 1px, 1px);height: 1px;margin: -1px;overflow: hidden;padding: 0;position: absolute;width: 1px;}#sk-container-id-1 div.sk-estimator {font-family: monospace;background-color: #f0f8ff;border: 1px dotted black;border-radius: 0.25em;box-sizing: border-box;margin-bottom: 0.5em;}#sk-container-id-1 div.sk-estimator:hover {background-color: #d4ebff;}#sk-container-id-1 div.sk-parallel-item::after {content: \"\";width: 100%;border-bottom: 1px solid gray;flex-grow: 1;}#sk-container-id-1 div.sk-label:hover label.sk-toggleable__label {background-color: #d4ebff;}#sk-container-id-1 div.sk-serial::before {content: \"\";position: absolute;border-left: 1px solid gray;box-sizing: border-box;top: 0;bottom: 0;left: 50%;z-index: 0;}#sk-container-id-1 div.sk-serial {display: flex;flex-direction: column;align-items: center;background-color: white;padding-right: 0.2em;padding-left: 0.2em;position: relative;}#sk-container-id-1 div.sk-item {position: relative;z-index: 1;}#sk-container-id-1 div.sk-parallel {display: flex;align-items: stretch;justify-content: center;background-color: white;position: relative;}#sk-container-id-1 div.sk-item::before, #sk-container-id-1 div.sk-parallel-item::before {content: \"\";position: absolute;border-left: 1px solid gray;box-sizing: border-box;top: 0;bottom: 0;left: 50%;z-index: -1;}#sk-container-id-1 div.sk-parallel-item {display: flex;flex-direction: column;z-index: 1;position: relative;background-color: white;}#sk-container-id-1 div.sk-parallel-item:first-child::after {align-self: flex-end;width: 50%;}#sk-container-id-1 div.sk-parallel-item:last-child::after {align-self: flex-start;width: 50%;}#sk-container-id-1 div.sk-parallel-item:only-child::after {width: 0;}#sk-container-id-1 div.sk-dashed-wrapped {border: 1px dashed gray;margin: 0 0.4em 0.5em 0.4em;box-sizing: border-box;padding-bottom: 0.4em;background-color: white;}#sk-container-id-1 div.sk-label label {font-family: monospace;font-weight: bold;display: inline-block;line-height: 1.2em;}#sk-container-id-1 div.sk-label-container {text-align: center;}#sk-container-id-1 div.sk-container {/* jupyter's `normalize.less` sets `[hidden] { display: none; }` but bootstrap.min.css set `[hidden] { display: none !important; }` so we also need the `!important` here to be able to override the default hidden behavior on the sphinx rendered scikit-learn.org. See: https://github.com/scikit-learn/scikit-learn/issues/21755 */display: inline-block !important;position: relative;}#sk-container-id-1 div.sk-text-repr-fallback {display: none;}</style><div id=\"sk-container-id-1\" class=\"sk-top-container\"><div class=\"sk-text-repr-fallback\"><pre>Pipeline(steps=[(&#x27;preprocessor&#x27;,\n",
       "                 ColumnTransformer(transformers=[(&#x27;cat&#x27;, OneHotEncoder(),\n",
       "                                                  [&#x27;asins&#x27;, &#x27;brand&#x27;,\n",
       "                                                   &#x27;manufacturer&#x27;,\n",
       "                                                   &#x27;reviews.doRecommend&#x27;]),\n",
       "                                                 (&#x27;num&#x27;, StandardScaler(),\n",
       "                                                  [&#x27;reviews.numHelpful&#x27;,\n",
       "                                                   &#x27;weight_in_pounds&#x27;,\n",
       "                                                   &#x27;cleaned_prices&#x27;,\n",
       "                                                   &#x27;rating_sentiment&#x27;,\n",
       "                                                   &#x27;total_word_frequency&#x27;,\n",
       "                                                   &#x27;average_word_length&#x27;])]))])</pre><b>In a Jupyter environment, please rerun this cell to show the HTML representation or trust the notebook. <br />On GitHub, the HTML representation is unable to render, please try loading this page with nbviewer.org.</b></div><div class=\"sk-container\" hidden><div class=\"sk-item sk-dashed-wrapped\"><div class=\"sk-label-container\"><div class=\"sk-label sk-toggleable\"><input class=\"sk-toggleable__control sk-hidden--visually\" id=\"sk-estimator-id-1\" type=\"checkbox\" ><label for=\"sk-estimator-id-1\" class=\"sk-toggleable__label sk-toggleable__label-arrow\">Pipeline</label><div class=\"sk-toggleable__content\"><pre>Pipeline(steps=[(&#x27;preprocessor&#x27;,\n",
       "                 ColumnTransformer(transformers=[(&#x27;cat&#x27;, OneHotEncoder(),\n",
       "                                                  [&#x27;asins&#x27;, &#x27;brand&#x27;,\n",
       "                                                   &#x27;manufacturer&#x27;,\n",
       "                                                   &#x27;reviews.doRecommend&#x27;]),\n",
       "                                                 (&#x27;num&#x27;, StandardScaler(),\n",
       "                                                  [&#x27;reviews.numHelpful&#x27;,\n",
       "                                                   &#x27;weight_in_pounds&#x27;,\n",
       "                                                   &#x27;cleaned_prices&#x27;,\n",
       "                                                   &#x27;rating_sentiment&#x27;,\n",
       "                                                   &#x27;total_word_frequency&#x27;,\n",
       "                                                   &#x27;average_word_length&#x27;])]))])</pre></div></div></div><div class=\"sk-serial\"><div class=\"sk-item sk-dashed-wrapped\"><div class=\"sk-label-container\"><div class=\"sk-label sk-toggleable\"><input class=\"sk-toggleable__control sk-hidden--visually\" id=\"sk-estimator-id-2\" type=\"checkbox\" ><label for=\"sk-estimator-id-2\" class=\"sk-toggleable__label sk-toggleable__label-arrow\">preprocessor: ColumnTransformer</label><div class=\"sk-toggleable__content\"><pre>ColumnTransformer(transformers=[(&#x27;cat&#x27;, OneHotEncoder(),\n",
       "                                 [&#x27;asins&#x27;, &#x27;brand&#x27;, &#x27;manufacturer&#x27;,\n",
       "                                  &#x27;reviews.doRecommend&#x27;]),\n",
       "                                (&#x27;num&#x27;, StandardScaler(),\n",
       "                                 [&#x27;reviews.numHelpful&#x27;, &#x27;weight_in_pounds&#x27;,\n",
       "                                  &#x27;cleaned_prices&#x27;, &#x27;rating_sentiment&#x27;,\n",
       "                                  &#x27;total_word_frequency&#x27;,\n",
       "                                  &#x27;average_word_length&#x27;])])</pre></div></div></div><div class=\"sk-parallel\"><div class=\"sk-parallel-item\"><div class=\"sk-item\"><div class=\"sk-label-container\"><div class=\"sk-label sk-toggleable\"><input class=\"sk-toggleable__control sk-hidden--visually\" id=\"sk-estimator-id-3\" type=\"checkbox\" ><label for=\"sk-estimator-id-3\" class=\"sk-toggleable__label sk-toggleable__label-arrow\">cat</label><div class=\"sk-toggleable__content\"><pre>[&#x27;asins&#x27;, &#x27;brand&#x27;, &#x27;manufacturer&#x27;, &#x27;reviews.doRecommend&#x27;]</pre></div></div></div><div class=\"sk-serial\"><div class=\"sk-item\"><div class=\"sk-estimator sk-toggleable\"><input class=\"sk-toggleable__control sk-hidden--visually\" id=\"sk-estimator-id-4\" type=\"checkbox\" ><label for=\"sk-estimator-id-4\" class=\"sk-toggleable__label sk-toggleable__label-arrow\">OneHotEncoder</label><div class=\"sk-toggleable__content\"><pre>OneHotEncoder()</pre></div></div></div></div></div></div><div class=\"sk-parallel-item\"><div class=\"sk-item\"><div class=\"sk-label-container\"><div class=\"sk-label sk-toggleable\"><input class=\"sk-toggleable__control sk-hidden--visually\" id=\"sk-estimator-id-5\" type=\"checkbox\" ><label for=\"sk-estimator-id-5\" class=\"sk-toggleable__label sk-toggleable__label-arrow\">num</label><div class=\"sk-toggleable__content\"><pre>[&#x27;reviews.numHelpful&#x27;, &#x27;weight_in_pounds&#x27;, &#x27;cleaned_prices&#x27;, &#x27;rating_sentiment&#x27;, &#x27;total_word_frequency&#x27;, &#x27;average_word_length&#x27;]</pre></div></div></div><div class=\"sk-serial\"><div class=\"sk-item\"><div class=\"sk-estimator sk-toggleable\"><input class=\"sk-toggleable__control sk-hidden--visually\" id=\"sk-estimator-id-6\" type=\"checkbox\" ><label for=\"sk-estimator-id-6\" class=\"sk-toggleable__label sk-toggleable__label-arrow\">StandardScaler</label><div class=\"sk-toggleable__content\"><pre>StandardScaler()</pre></div></div></div></div></div></div></div></div></div></div></div></div>"
      ],
      "text/plain": [
       "Pipeline(steps=[('preprocessor',\n",
       "                 ColumnTransformer(transformers=[('cat', OneHotEncoder(),\n",
       "                                                  ['asins', 'brand',\n",
       "                                                   'manufacturer',\n",
       "                                                   'reviews.doRecommend']),\n",
       "                                                 ('num', StandardScaler(),\n",
       "                                                  ['reviews.numHelpful',\n",
       "                                                   'weight_in_pounds',\n",
       "                                                   'cleaned_prices',\n",
       "                                                   'rating_sentiment',\n",
       "                                                   'total_word_frequency',\n",
       "                                                   'average_word_length'])]))])"
      ]
     },
     "execution_count": 40,
     "metadata": {},
     "output_type": "execute_result"
    }
   ],
   "source": [
    "pipeline"
   ]
  },
  {
   "cell_type": "markdown",
   "metadata": {},
   "source": [
    "## 6.Model Building, Evaluation and Tuning"
   ]
  },
  {
   "cell_type": "markdown",
   "metadata": {},
   "source": [
    "## Decision Tree"
   ]
  },
  {
   "cell_type": "code",
   "execution_count": null,
   "metadata": {},
   "outputs": [],
   "source": []
  },
  {
   "cell_type": "markdown",
   "metadata": {},
   "source": [
    "## Random Forest"
   ]
  },
  {
   "cell_type": "code",
   "execution_count": null,
   "metadata": {},
   "outputs": [],
   "source": []
  }
 ],
 "metadata": {
  "kernelspec": {
   "display_name": "Python 3 (ipykernel)",
   "language": "python",
   "name": "python3"
  },
  "language_info": {
   "codemirror_mode": {
    "name": "ipython",
    "version": 3
   },
   "file_extension": ".py",
   "mimetype": "text/x-python",
   "name": "python",
   "nbconvert_exporter": "python",
   "pygments_lexer": "ipython3",
   "version": "3.11.8"
  }
 },
 "nbformat": 4,
 "nbformat_minor": 4
}
